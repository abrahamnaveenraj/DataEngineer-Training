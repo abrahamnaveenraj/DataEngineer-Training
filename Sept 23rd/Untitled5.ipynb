from pyspark.sql import SparkSession


spark = SparkSession.builder.appName("ProductOrderAnalysis").getOrCreate()

# Product data
product_data = [
    (101, "Laptop", "Electronics", 55000),
    (102, "Mobile Phone", "Electronics", 25000),
    (103, "Chair", "Furniture", 5000),
    (104, "Book", "Stationery", 300),
    (105, "Headphones", "Electronics", 3000)
]

product_cols = ["product_id", "name", "category", "price"]
product_df = spark.createDataFrame(product_data, product_cols)

# Order data
order_data = [
    (201, 101, 2, "Rahul Sharma"),
    (202, 102, 1, "Priya Singh"),
    (203, 103, 4, "Aman Kumar"),
    (204, 104, 10, "Sneha Reddy"),
    (205, 101, 1, "Arjun Mehta"),
    (206, 105, 3, "Rahul Sharma"),
    (207, 106, 1, "Ghost Customer")  # Order with product not in catalog
]

order_cols = ["order_id", "product_id", "quantity", "customer"]
order_df = spark.createDataFrame(order_data, order_cols)

# Show both
product_df.show()
order_df.show()


product_df.select("name","price").show()

product_df.filter(product_df["price"]>10000).show()

product_df.orderBy(product_df["price"].desc()).show()

order_df.join(product_df,order_df.product_id==product_df.product_id,"inner").show()
order_df.join(product_df,order_df.product_id==product_df.product_id,"left").show()
order_df.join(product_df,order_df.product_id==product_df.product_id,"right").show()

product_df.createOrReplaceTempView("products")
order_df.createOrReplaceTempView("orders")

spark.sql(""" SELECT o.product_id, p.name, SUM(o.quantity * p.price)
 AS total_revenue
  FROM orders o
JOIN products p ON o.product_id = p.product_id
GROUP BY o.product_id, p.name """). show()

spark.sql(""" SELECT customer, SUM(quantity) AS total_qty
  FROM orders
  GROUP BY customer
  ORDER BY total_qty DESC
  LIMIT 2 """). show()

!pip install pyspark

from pyspark.sql import SparkSession
spark = SparkSession.builder.appName("RDD-Example").getOrCreate()
sc = spark.sparkContext
data=[1,2,3,4,5,6,7,8,9]
rdd=sc.parallelize(data)
print("RDD elements:",rdd.collect())
squared_rdd=rdd.map(lambda x: x* x)
even_rdd= rdd.filter(lambda x: x % 2 == 0)
print("squared:", squared_rdd.collect()) 
print("Event", even_rdd.collect())
print("Count:", rdd.count())
print("Sum:", rdd.sum())
print("rax:", rdd.max())
