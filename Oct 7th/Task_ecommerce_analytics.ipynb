{
 "cells": [
  {
   "cell_type": "code",
   "execution_count": 0,
   "metadata": {
    "application/vnd.databricks.v1+cell": {
     "cellMetadata": {
      "byteLimit": 2048000,
      "rowLimit": 10000
     },
     "inputWidgets": {},
     "nuid": "32dd16ff-04f5-4b70-8971-a90e3054e6bb",
     "showTitle": false,
     "tableResultSettingsMap": {},
     "title": ""
    }
   },
   "outputs": [
    {
     "output_type": "stream",
     "name": "stdout",
     "output_type": "stream",
     "text": [
      "Customers Data:\n"
     ]
    },
    {
     "output_type": "display_data",
     "data": {
      "text/html": [
       "<style scoped>\n",
       "  .table-result-container {\n",
       "    max-height: 300px;\n",
       "    overflow: auto;\n",
       "  }\n",
       "  table, th, td {\n",
       "    border: 1px solid black;\n",
       "    border-collapse: collapse;\n",
       "  }\n",
       "  th, td {\n",
       "    padding: 5px;\n",
       "  }\n",
       "  th {\n",
       "    text-align: left;\n",
       "  }\n",
       "</style><div class='table-result-container'><table class='table-result'><thead style='background-color: white'><tr><th>customer_id</th><th>name</th><th>city</th><th>age</th></tr></thead><tbody><tr><td>1</td><td>Rahul Sharma</td><td>Bangalore</td><td>28</td></tr><tr><td>2</td><td>Priya Singh</td><td>Delhi</td><td>32</td></tr><tr><td>3</td><td>Aman Kumar</td><td>Hyderabad</td><td>25</td></tr><tr><td>4</td><td>Sneha Reddy</td><td>Chennai</td><td>35</td></tr><tr><td>5</td><td>Arjun Mehta</td><td>Mumbai</td><td>30</td></tr><tr><td>6</td><td>Divya Nair</td><td>Delhi</td><td>null</td></tr></tbody></table></div>"
      ]
     },
     "metadata": {
      "application/vnd.databricks.v1+output": {
       "addedWidgets": {},
       "aggData": [],
       "aggError": "",
       "aggOverflow": false,
       "aggSchema": [],
       "aggSeriesLimitReached": false,
       "aggType": "",
       "arguments": {},
       "columnCustomDisplayInfos": {},
       "data": [
        [
         1,
         "Rahul Sharma",
         "Bangalore",
         28
        ],
        [
         2,
         "Priya Singh",
         "Delhi",
         32
        ],
        [
         3,
         "Aman Kumar",
         "Hyderabad",
         25
        ],
        [
         4,
         "Sneha Reddy",
         "Chennai",
         35
        ],
        [
         5,
         "Arjun Mehta",
         "Mumbai",
         30
        ],
        [
         6,
         "Divya Nair",
         "Delhi",
         null
        ]
       ],
       "datasetInfos": [],
       "dbfsResultPath": null,
       "isJsonSchema": true,
       "metadata": {},
       "overflow": false,
       "plotOptions": {
        "customPlotOptions": {},
        "displayType": "table",
        "pivotAggregation": null,
        "pivotColumns": null,
        "xColumns": null,
        "yColumns": null
       },
       "removedWidgets": [],
       "schema": [
        {
         "metadata": "{}",
         "name": "customer_id",
         "type": "\"integer\""
        },
        {
         "metadata": "{}",
         "name": "name",
         "type": "\"string\""
        },
        {
         "metadata": "{}",
         "name": "city",
         "type": "\"string\""
        },
        {
         "metadata": "{}",
         "name": "age",
         "type": "\"integer\""
        }
       ],
       "type": "table"
      }
     },
     "output_type": "display_data"
    },
    {
     "output_type": "stream",
     "name": "stdout",
     "output_type": "stream",
     "text": [
      "Products Data:\n"
     ]
    },
    {
     "output_type": "display_data",
     "data": {
      "text/html": [
       "<style scoped>\n",
       "  .table-result-container {\n",
       "    max-height: 300px;\n",
       "    overflow: auto;\n",
       "  }\n",
       "  table, th, td {\n",
       "    border: 1px solid black;\n",
       "    border-collapse: collapse;\n",
       "  }\n",
       "  th, td {\n",
       "    padding: 5px;\n",
       "  }\n",
       "  th {\n",
       "    text-align: left;\n",
       "  }\n",
       "</style><div class='table-result-container'><table class='table-result'><thead style='background-color: white'><tr><th>product_id</th><th>product_name</th><th>category</th><th>price</th></tr></thead><tbody><tr><td>101</td><td>Laptop</td><td>Electronics</td><td>55000</td></tr><tr><td>102</td><td>Mobile</td><td>Electronics</td><td>25000</td></tr><tr><td>103</td><td>Headphones</td><td>Electronics</td><td>3000</td></tr><tr><td>104</td><td>Chair</td><td>Furniture</td><td>5000</td></tr><tr><td>105</td><td>Book</td><td>Stationery</td><td>700</td></tr><tr><td>106</td><td>Shoes</td><td>Fashion</td><td>2500</td></tr></tbody></table></div>"
      ]
     },
     "metadata": {
      "application/vnd.databricks.v1+output": {
       "addedWidgets": {},
       "aggData": [],
       "aggError": "",
       "aggOverflow": false,
       "aggSchema": [],
       "aggSeriesLimitReached": false,
       "aggType": "",
       "arguments": {},
       "columnCustomDisplayInfos": {},
       "data": [
        [
         101,
         "Laptop",
         "Electronics",
         55000
        ],
        [
         102,
         "Mobile",
         "Electronics",
         25000
        ],
        [
         103,
         "Headphones",
         "Electronics",
         3000
        ],
        [
         104,
         "Chair",
         "Furniture",
         5000
        ],
        [
         105,
         "Book",
         "Stationery",
         700
        ],
        [
         106,
         "Shoes",
         "Fashion",
         2500
        ]
       ],
       "datasetInfos": [],
       "dbfsResultPath": null,
       "isJsonSchema": true,
       "metadata": {},
       "overflow": false,
       "plotOptions": {
        "customPlotOptions": {},
        "displayType": "table",
        "pivotAggregation": null,
        "pivotColumns": null,
        "xColumns": null,
        "yColumns": null
       },
       "removedWidgets": [],
       "schema": [
        {
         "metadata": "{}",
         "name": "product_id",
         "type": "\"integer\""
        },
        {
         "metadata": "{}",
         "name": "product_name",
         "type": "\"string\""
        },
        {
         "metadata": "{}",
         "name": "category",
         "type": "\"string\""
        },
        {
         "metadata": "{}",
         "name": "price",
         "type": "\"integer\""
        }
       ],
       "type": "table"
      }
     },
     "output_type": "display_data"
    },
    {
     "output_type": "stream",
     "name": "stdout",
     "output_type": "stream",
     "text": [
      "Orders Data:\n"
     ]
    },
    {
     "output_type": "display_data",
     "data": {
      "text/html": [
       "<style scoped>\n",
       "  .table-result-container {\n",
       "    max-height: 300px;\n",
       "    overflow: auto;\n",
       "  }\n",
       "  table, th, td {\n",
       "    border: 1px solid black;\n",
       "    border-collapse: collapse;\n",
       "  }\n",
       "  th, td {\n",
       "    padding: 5px;\n",
       "  }\n",
       "  th {\n",
       "    text-align: left;\n",
       "  }\n",
       "</style><div class='table-result-container'><table class='table-result'><thead style='background-color: white'><tr><th>order_id</th><th>customer_id</th><th>product_id</th><th>quantity</th><th>order_date</th></tr></thead><tbody><tr><td>1001</td><td>1</td><td>101</td><td>1</td><td>2024-01-10</td></tr><tr><td>1002</td><td>2</td><td>102</td><td>2</td><td>2024-01-12</td></tr><tr><td>1003</td><td>1</td><td>103</td><td>3</td><td>2024-02-05</td></tr><tr><td>1004</td><td>3</td><td>104</td><td>1</td><td>2024-02-08</td></tr><tr><td>1005</td><td>5</td><td>105</td><td>5</td><td>2024-03-01</td></tr><tr><td>1006</td><td>6</td><td>106</td><td>2</td><td>2024-03-15</td></tr><tr><td>1007</td><td>7</td><td>101</td><td>1</td><td>2024-03-20</td></tr></tbody></table></div>"
      ]
     },
     "metadata": {
      "application/vnd.databricks.v1+output": {
       "addedWidgets": {},
       "aggData": [],
       "aggError": "",
       "aggOverflow": false,
       "aggSchema": [],
       "aggSeriesLimitReached": false,
       "aggType": "",
       "arguments": {},
       "columnCustomDisplayInfos": {},
       "data": [
        [
         1001,
         1,
         101,
         1,
         "2024-01-10"
        ],
        [
         1002,
         2,
         102,
         2,
         "2024-01-12"
        ],
        [
         1003,
         1,
         103,
         3,
         "2024-02-05"
        ],
        [
         1004,
         3,
         104,
         1,
         "2024-02-08"
        ],
        [
         1005,
         5,
         105,
         5,
         "2024-03-01"
        ],
        [
         1006,
         6,
         106,
         2,
         "2024-03-15"
        ],
        [
         1007,
         7,
         101,
         1,
         "2024-03-20"
        ]
       ],
       "datasetInfos": [],
       "dbfsResultPath": null,
       "isJsonSchema": true,
       "metadata": {},
       "overflow": false,
       "plotOptions": {
        "customPlotOptions": {},
        "displayType": "table",
        "pivotAggregation": null,
        "pivotColumns": null,
        "xColumns": null,
        "yColumns": null
       },
       "removedWidgets": [],
       "schema": [
        {
         "metadata": "{}",
         "name": "order_id",
         "type": "\"integer\""
        },
        {
         "metadata": "{}",
         "name": "customer_id",
         "type": "\"integer\""
        },
        {
         "metadata": "{}",
         "name": "product_id",
         "type": "\"integer\""
        },
        {
         "metadata": "{}",
         "name": "quantity",
         "type": "\"integer\""
        },
        {
         "metadata": "{\"__detected_date_formats\":\"d-M-yyyy\"}",
         "name": "order_date",
         "type": "\"date\""
        }
       ],
       "type": "table"
      }
     },
     "output_type": "display_data"
    }
   ],
   "source": [
    "from pyspark.sql import SparkSession\n",
    "from pyspark.sql.functions import col, month, sum, avg, desc\n",
    "\n",
    "spark = SparkSession.builder.appName(\"ECommerceAnalysis\").getOrCreate()\n",
    "\n",
    "# Load the files into DataFrames\n",
    "customers_df = spark.read.csv(\"/FileStore/tables/coustomers.csv\", header=True, inferSchema=True)\n",
    "products_df = spark.read.csv(\"/FileStore/tables/products.csv\", header=True, inferSchema=True)\n",
    "orders_df = spark.read.csv(\"/FileStore/tables/orders.csv\", header=True, inferSchema=True)\n",
    "\n",
    "# Display the dataframes to verify\n",
    "print(\"Customers Data:\")\n",
    "display(customers_df)\n",
    "\n",
    "print(\"Products Data:\")\n",
    "display(products_df)\n",
    "\n",
    "print(\"Orders Data:\")\n",
    "display(orders_df)"
   ]
  },
  {
   "cell_type": "code",
   "execution_count": 0,
   "metadata": {
    "application/vnd.databricks.v1+cell": {
     "cellMetadata": {
      "byteLimit": 2048000,
      "rowLimit": 10000
     },
     "inputWidgets": {},
     "nuid": "d517022e-e1c8-43cf-99a6-d3a214a8f701",
     "showTitle": false,
     "tableResultSettingsMap": {},
     "title": ""
    }
   },
   "outputs": [
    {
     "output_type": "stream",
     "name": "stdout",
     "output_type": "stream",
     "text": [
      "Orders with Total Price:\n"
     ]
    },
    {
     "output_type": "display_data",
     "data": {
      "text/html": [
       "<style scoped>\n",
       "  .table-result-container {\n",
       "    max-height: 300px;\n",
       "    overflow: auto;\n",
       "  }\n",
       "  table, th, td {\n",
       "    border: 1px solid black;\n",
       "    border-collapse: collapse;\n",
       "  }\n",
       "  th, td {\n",
       "    padding: 5px;\n",
       "  }\n",
       "  th {\n",
       "    text-align: left;\n",
       "  }\n",
       "</style><div class='table-result-container'><table class='table-result'><thead style='background-color: white'><tr><th>product_id</th><th>order_id</th><th>customer_id</th><th>quantity</th><th>order_date</th><th>product_name</th><th>category</th><th>price</th><th>total_price</th></tr></thead><tbody><tr><td>101</td><td>1001</td><td>1</td><td>1</td><td>2024-01-10</td><td>Laptop</td><td>Electronics</td><td>55000</td><td>55000</td></tr><tr><td>102</td><td>1002</td><td>2</td><td>2</td><td>2024-01-12</td><td>Mobile</td><td>Electronics</td><td>25000</td><td>50000</td></tr><tr><td>103</td><td>1003</td><td>1</td><td>3</td><td>2024-02-05</td><td>Headphones</td><td>Electronics</td><td>3000</td><td>9000</td></tr><tr><td>104</td><td>1004</td><td>3</td><td>1</td><td>2024-02-08</td><td>Chair</td><td>Furniture</td><td>5000</td><td>5000</td></tr><tr><td>105</td><td>1005</td><td>5</td><td>5</td><td>2024-03-01</td><td>Book</td><td>Stationery</td><td>700</td><td>3500</td></tr><tr><td>106</td><td>1006</td><td>6</td><td>2</td><td>2024-03-15</td><td>Shoes</td><td>Fashion</td><td>2500</td><td>5000</td></tr><tr><td>101</td><td>1007</td><td>7</td><td>1</td><td>2024-03-20</td><td>Laptop</td><td>Electronics</td><td>55000</td><td>55000</td></tr></tbody></table></div>"
      ]
     },
     "metadata": {
      "application/vnd.databricks.v1+output": {
       "addedWidgets": {},
       "aggData": [],
       "aggError": "",
       "aggOverflow": false,
       "aggSchema": [],
       "aggSeriesLimitReached": false,
       "aggType": "",
       "arguments": {},
       "columnCustomDisplayInfos": {},
       "data": [
        [
         101,
         1001,
         1,
         1,
         "2024-01-10",
         "Laptop",
         "Electronics",
         55000,
         55000
        ],
        [
         102,
         1002,
         2,
         2,
         "2024-01-12",
         "Mobile",
         "Electronics",
         25000,
         50000
        ],
        [
         103,
         1003,
         1,
         3,
         "2024-02-05",
         "Headphones",
         "Electronics",
         3000,
         9000
        ],
        [
         104,
         1004,
         3,
         1,
         "2024-02-08",
         "Chair",
         "Furniture",
         5000,
         5000
        ],
        [
         105,
         1005,
         5,
         5,
         "2024-03-01",
         "Book",
         "Stationery",
         700,
         3500
        ],
        [
         106,
         1006,
         6,
         2,
         "2024-03-15",
         "Shoes",
         "Fashion",
         2500,
         5000
        ],
        [
         101,
         1007,
         7,
         1,
         "2024-03-20",
         "Laptop",
         "Electronics",
         55000,
         55000
        ]
       ],
       "datasetInfos": [],
       "dbfsResultPath": null,
       "isJsonSchema": true,
       "metadata": {},
       "overflow": false,
       "plotOptions": {
        "customPlotOptions": {},
        "displayType": "table",
        "pivotAggregation": null,
        "pivotColumns": null,
        "xColumns": null,
        "yColumns": null
       },
       "removedWidgets": [],
       "schema": [
        {
         "metadata": "{}",
         "name": "product_id",
         "type": "\"integer\""
        },
        {
         "metadata": "{}",
         "name": "order_id",
         "type": "\"integer\""
        },
        {
         "metadata": "{}",
         "name": "customer_id",
         "type": "\"integer\""
        },
        {
         "metadata": "{}",
         "name": "quantity",
         "type": "\"integer\""
        },
        {
         "metadata": "{\"__detected_date_formats\":\"d-M-yyyy\"}",
         "name": "order_date",
         "type": "\"date\""
        },
        {
         "metadata": "{}",
         "name": "product_name",
         "type": "\"string\""
        },
        {
         "metadata": "{}",
         "name": "category",
         "type": "\"string\""
        },
        {
         "metadata": "{}",
         "name": "price",
         "type": "\"integer\""
        },
        {
         "metadata": "{}",
         "name": "total_price",
         "type": "\"integer\""
        }
       ],
       "type": "table"
      }
     },
     "output_type": "display_data"
    },
    {
     "output_type": "stream",
     "name": "stdout",
     "output_type": "stream",
     "text": [
      "High Value Orders (Total Price > 40,000):\n"
     ]
    },
    {
     "output_type": "display_data",
     "data": {
      "text/html": [
       "<style scoped>\n",
       "  .table-result-container {\n",
       "    max-height: 300px;\n",
       "    overflow: auto;\n",
       "  }\n",
       "  table, th, td {\n",
       "    border: 1px solid black;\n",
       "    border-collapse: collapse;\n",
       "  }\n",
       "  th, td {\n",
       "    padding: 5px;\n",
       "  }\n",
       "  th {\n",
       "    text-align: left;\n",
       "  }\n",
       "</style><div class='table-result-container'><table class='table-result'><thead style='background-color: white'><tr><th>product_id</th><th>order_id</th><th>customer_id</th><th>quantity</th><th>order_date</th><th>product_name</th><th>category</th><th>price</th><th>total_price</th></tr></thead><tbody><tr><td>101</td><td>1001</td><td>1</td><td>1</td><td>2024-01-10</td><td>Laptop</td><td>Electronics</td><td>55000</td><td>55000</td></tr><tr><td>102</td><td>1002</td><td>2</td><td>2</td><td>2024-01-12</td><td>Mobile</td><td>Electronics</td><td>25000</td><td>50000</td></tr><tr><td>101</td><td>1007</td><td>7</td><td>1</td><td>2024-03-20</td><td>Laptop</td><td>Electronics</td><td>55000</td><td>55000</td></tr></tbody></table></div>"
      ]
     },
     "metadata": {
      "application/vnd.databricks.v1+output": {
       "addedWidgets": {},
       "aggData": [],
       "aggError": "",
       "aggOverflow": false,
       "aggSchema": [],
       "aggSeriesLimitReached": false,
       "aggType": "",
       "arguments": {},
       "columnCustomDisplayInfos": {},
       "data": [
        [
         101,
         1001,
         1,
         1,
         "2024-01-10",
         "Laptop",
         "Electronics",
         55000,
         55000
        ],
        [
         102,
         1002,
         2,
         2,
         "2024-01-12",
         "Mobile",
         "Electronics",
         25000,
         50000
        ],
        [
         101,
         1007,
         7,
         1,
         "2024-03-20",
         "Laptop",
         "Electronics",
         55000,
         55000
        ]
       ],
       "datasetInfos": [],
       "dbfsResultPath": null,
       "isJsonSchema": true,
       "metadata": {},
       "overflow": false,
       "plotOptions": {
        "customPlotOptions": {},
        "displayType": "table",
        "pivotAggregation": null,
        "pivotColumns": null,
        "xColumns": null,
        "yColumns": null
       },
       "removedWidgets": [],
       "schema": [
        {
         "metadata": "{}",
         "name": "product_id",
         "type": "\"integer\""
        },
        {
         "metadata": "{}",
         "name": "order_id",
         "type": "\"integer\""
        },
        {
         "metadata": "{}",
         "name": "customer_id",
         "type": "\"integer\""
        },
        {
         "metadata": "{}",
         "name": "quantity",
         "type": "\"integer\""
        },
        {
         "metadata": "{\"__detected_date_formats\":\"d-M-yyyy\"}",
         "name": "order_date",
         "type": "\"date\""
        },
        {
         "metadata": "{}",
         "name": "product_name",
         "type": "\"string\""
        },
        {
         "metadata": "{}",
         "name": "category",
         "type": "\"string\""
        },
        {
         "metadata": "{}",
         "name": "price",
         "type": "\"integer\""
        },
        {
         "metadata": "{}",
         "name": "total_price",
         "type": "\"integer\""
        }
       ],
       "type": "table"
      }
     },
     "output_type": "display_data"
    },
    {
     "output_type": "stream",
     "name": "stdout",
     "output_type": "stream",
     "text": [
      "Orders with Month Extracted:\n"
     ]
    },
    {
     "output_type": "display_data",
     "data": {
      "text/html": [
       "<style scoped>\n",
       "  .table-result-container {\n",
       "    max-height: 300px;\n",
       "    overflow: auto;\n",
       "  }\n",
       "  table, th, td {\n",
       "    border: 1px solid black;\n",
       "    border-collapse: collapse;\n",
       "  }\n",
       "  th, td {\n",
       "    padding: 5px;\n",
       "  }\n",
       "  th {\n",
       "    text-align: left;\n",
       "  }\n",
       "</style><div class='table-result-container'><table class='table-result'><thead style='background-color: white'><tr><th>product_id</th><th>order_id</th><th>customer_id</th><th>quantity</th><th>order_date</th><th>product_name</th><th>category</th><th>price</th><th>total_price</th><th>order_month</th></tr></thead><tbody><tr><td>101</td><td>1001</td><td>1</td><td>1</td><td>2024-01-10</td><td>Laptop</td><td>Electronics</td><td>55000</td><td>55000</td><td>1</td></tr><tr><td>102</td><td>1002</td><td>2</td><td>2</td><td>2024-01-12</td><td>Mobile</td><td>Electronics</td><td>25000</td><td>50000</td><td>1</td></tr><tr><td>103</td><td>1003</td><td>1</td><td>3</td><td>2024-02-05</td><td>Headphones</td><td>Electronics</td><td>3000</td><td>9000</td><td>2</td></tr><tr><td>104</td><td>1004</td><td>3</td><td>1</td><td>2024-02-08</td><td>Chair</td><td>Furniture</td><td>5000</td><td>5000</td><td>2</td></tr><tr><td>105</td><td>1005</td><td>5</td><td>5</td><td>2024-03-01</td><td>Book</td><td>Stationery</td><td>700</td><td>3500</td><td>3</td></tr><tr><td>106</td><td>1006</td><td>6</td><td>2</td><td>2024-03-15</td><td>Shoes</td><td>Fashion</td><td>2500</td><td>5000</td><td>3</td></tr><tr><td>101</td><td>1007</td><td>7</td><td>1</td><td>2024-03-20</td><td>Laptop</td><td>Electronics</td><td>55000</td><td>55000</td><td>3</td></tr></tbody></table></div>"
      ]
     },
     "metadata": {
      "application/vnd.databricks.v1+output": {
       "addedWidgets": {},
       "aggData": [],
       "aggError": "",
       "aggOverflow": false,
       "aggSchema": [],
       "aggSeriesLimitReached": false,
       "aggType": "",
       "arguments": {},
       "columnCustomDisplayInfos": {},
       "data": [
        [
         101,
         1001,
         1,
         1,
         "2024-01-10",
         "Laptop",
         "Electronics",
         55000,
         55000,
         1
        ],
        [
         102,
         1002,
         2,
         2,
         "2024-01-12",
         "Mobile",
         "Electronics",
         25000,
         50000,
         1
        ],
        [
         103,
         1003,
         1,
         3,
         "2024-02-05",
         "Headphones",
         "Electronics",
         3000,
         9000,
         2
        ],
        [
         104,
         1004,
         3,
         1,
         "2024-02-08",
         "Chair",
         "Furniture",
         5000,
         5000,
         2
        ],
        [
         105,
         1005,
         5,
         5,
         "2024-03-01",
         "Book",
         "Stationery",
         700,
         3500,
         3
        ],
        [
         106,
         1006,
         6,
         2,
         "2024-03-15",
         "Shoes",
         "Fashion",
         2500,
         5000,
         3
        ],
        [
         101,
         1007,
         7,
         1,
         "2024-03-20",
         "Laptop",
         "Electronics",
         55000,
         55000,
         3
        ]
       ],
       "datasetInfos": [],
       "dbfsResultPath": null,
       "isJsonSchema": true,
       "metadata": {},
       "overflow": false,
       "plotOptions": {
        "customPlotOptions": {},
        "displayType": "table",
        "pivotAggregation": null,
        "pivotColumns": null,
        "xColumns": null,
        "yColumns": null
       },
       "removedWidgets": [],
       "schema": [
        {
         "metadata": "{}",
         "name": "product_id",
         "type": "\"integer\""
        },
        {
         "metadata": "{}",
         "name": "order_id",
         "type": "\"integer\""
        },
        {
         "metadata": "{}",
         "name": "customer_id",
         "type": "\"integer\""
        },
        {
         "metadata": "{}",
         "name": "quantity",
         "type": "\"integer\""
        },
        {
         "metadata": "{\"__detected_date_formats\":\"d-M-yyyy\"}",
         "name": "order_date",
         "type": "\"date\""
        },
        {
         "metadata": "{}",
         "name": "product_name",
         "type": "\"string\""
        },
        {
         "metadata": "{}",
         "name": "category",
         "type": "\"string\""
        },
        {
         "metadata": "{}",
         "name": "price",
         "type": "\"integer\""
        },
        {
         "metadata": "{}",
         "name": "total_price",
         "type": "\"integer\""
        },
        {
         "metadata": "{}",
         "name": "order_month",
         "type": "\"integer\""
        }
       ],
       "type": "table"
      }
     },
     "output_type": "display_data"
    },
    {
     "output_type": "stream",
     "name": "stdout",
     "output_type": "stream",
     "text": [
      "Orders Sorted by Total Price (Descending):\n"
     ]
    },
    {
     "output_type": "display_data",
     "data": {
      "text/html": [
       "<style scoped>\n",
       "  .table-result-container {\n",
       "    max-height: 300px;\n",
       "    overflow: auto;\n",
       "  }\n",
       "  table, th, td {\n",
       "    border: 1px solid black;\n",
       "    border-collapse: collapse;\n",
       "  }\n",
       "  th, td {\n",
       "    padding: 5px;\n",
       "  }\n",
       "  th {\n",
       "    text-align: left;\n",
       "  }\n",
       "</style><div class='table-result-container'><table class='table-result'><thead style='background-color: white'><tr><th>product_id</th><th>order_id</th><th>customer_id</th><th>quantity</th><th>order_date</th><th>product_name</th><th>category</th><th>price</th><th>total_price</th></tr></thead><tbody><tr><td>101</td><td>1007</td><td>7</td><td>1</td><td>2024-03-20</td><td>Laptop</td><td>Electronics</td><td>55000</td><td>55000</td></tr><tr><td>101</td><td>1001</td><td>1</td><td>1</td><td>2024-01-10</td><td>Laptop</td><td>Electronics</td><td>55000</td><td>55000</td></tr><tr><td>102</td><td>1002</td><td>2</td><td>2</td><td>2024-01-12</td><td>Mobile</td><td>Electronics</td><td>25000</td><td>50000</td></tr><tr><td>103</td><td>1003</td><td>1</td><td>3</td><td>2024-02-05</td><td>Headphones</td><td>Electronics</td><td>3000</td><td>9000</td></tr><tr><td>104</td><td>1004</td><td>3</td><td>1</td><td>2024-02-08</td><td>Chair</td><td>Furniture</td><td>5000</td><td>5000</td></tr><tr><td>106</td><td>1006</td><td>6</td><td>2</td><td>2024-03-15</td><td>Shoes</td><td>Fashion</td><td>2500</td><td>5000</td></tr><tr><td>105</td><td>1005</td><td>5</td><td>5</td><td>2024-03-01</td><td>Book</td><td>Stationery</td><td>700</td><td>3500</td></tr></tbody></table></div>"
      ]
     },
     "metadata": {
      "application/vnd.databricks.v1+output": {
       "addedWidgets": {},
       "aggData": [],
       "aggError": "",
       "aggOverflow": false,
       "aggSchema": [],
       "aggSeriesLimitReached": false,
       "aggType": "",
       "arguments": {},
       "columnCustomDisplayInfos": {},
       "data": [
        [
         101,
         1007,
         7,
         1,
         "2024-03-20",
         "Laptop",
         "Electronics",
         55000,
         55000
        ],
        [
         101,
         1001,
         1,
         1,
         "2024-01-10",
         "Laptop",
         "Electronics",
         55000,
         55000
        ],
        [
         102,
         1002,
         2,
         2,
         "2024-01-12",
         "Mobile",
         "Electronics",
         25000,
         50000
        ],
        [
         103,
         1003,
         1,
         3,
         "2024-02-05",
         "Headphones",
         "Electronics",
         3000,
         9000
        ],
        [
         104,
         1004,
         3,
         1,
         "2024-02-08",
         "Chair",
         "Furniture",
         5000,
         5000
        ],
        [
         106,
         1006,
         6,
         2,
         "2024-03-15",
         "Shoes",
         "Fashion",
         2500,
         5000
        ],
        [
         105,
         1005,
         5,
         5,
         "2024-03-01",
         "Book",
         "Stationery",
         700,
         3500
        ]
       ],
       "datasetInfos": [],
       "dbfsResultPath": null,
       "isJsonSchema": true,
       "metadata": {},
       "overflow": false,
       "plotOptions": {
        "customPlotOptions": {},
        "displayType": "table",
        "pivotAggregation": null,
        "pivotColumns": null,
        "xColumns": null,
        "yColumns": null
       },
       "removedWidgets": [],
       "schema": [
        {
         "metadata": "{}",
         "name": "product_id",
         "type": "\"integer\""
        },
        {
         "metadata": "{}",
         "name": "order_id",
         "type": "\"integer\""
        },
        {
         "metadata": "{}",
         "name": "customer_id",
         "type": "\"integer\""
        },
        {
         "metadata": "{}",
         "name": "quantity",
         "type": "\"integer\""
        },
        {
         "metadata": "{\"__detected_date_formats\":\"d-M-yyyy\"}",
         "name": "order_date",
         "type": "\"date\""
        },
        {
         "metadata": "{}",
         "name": "product_name",
         "type": "\"string\""
        },
        {
         "metadata": "{}",
         "name": "category",
         "type": "\"string\""
        },
        {
         "metadata": "{}",
         "name": "price",
         "type": "\"integer\""
        },
        {
         "metadata": "{}",
         "name": "total_price",
         "type": "\"integer\""
        }
       ],
       "type": "table"
      }
     },
     "output_type": "display_data"
    }
   ],
   "source": [
    "# 1. Add Total Price column to orders\n",
    "joined_df = orders_df.join(products_df, \"product_id\")\n",
    "\n",
    "orders_total_df = joined_df.withColumn(\"total_price\", col(\"quantity\") * col(\"price\"))\n",
    "print(\"Orders with Total Price:\")\n",
    "display(orders_total_df)\n",
    "\n",
    "\n",
    "# 2. Filter orders with a total_price above 40,000\n",
    "high_value_orders_df = orders_total_df.filter(col(\"total_price\") > 40000)\n",
    "print(\"High Value Orders (Total Price > 40,000):\")\n",
    "display(high_value_orders_df)\n",
    "\n",
    "\n",
    "# 3. Extract month from order_date\n",
    "orders_with_month_df = orders_total_df.withColumn(\"order_month\", month(col(\"order_date\")))\n",
    "print(\"Orders with Month Extracted:\")\n",
    "display(orders_with_month_df)\n",
    "\n",
    "\n",
    "# 4. Sort by total_price descending\n",
    "sorted_orders_df = orders_total_df.orderBy(col(\"total_price\").desc())\n",
    "print(\"Orders Sorted by Total Price (Descending):\")\n",
    "display(sorted_orders_df)"
   ]
  },
  {
   "cell_type": "code",
   "execution_count": 0,
   "metadata": {
    "application/vnd.databricks.v1+cell": {
     "cellMetadata": {
      "byteLimit": 2048000,
      "rowLimit": 10000
     },
     "inputWidgets": {},
     "nuid": "e3d00f96-660e-427a-b8ad-1694310860f8",
     "showTitle": false,
     "tableResultSettingsMap": {},
     "title": ""
    }
   },
   "outputs": [
    {
     "output_type": "stream",
     "name": "stdout",
     "output_type": "stream",
     "text": [
      "Total Revenue per City:\n"
     ]
    },
    {
     "output_type": "display_data",
     "data": {
      "text/html": [
       "<style scoped>\n",
       "  .table-result-container {\n",
       "    max-height: 300px;\n",
       "    overflow: auto;\n",
       "  }\n",
       "  table, th, td {\n",
       "    border: 1px solid black;\n",
       "    border-collapse: collapse;\n",
       "  }\n",
       "  th, td {\n",
       "    padding: 5px;\n",
       "  }\n",
       "  th {\n",
       "    text-align: left;\n",
       "  }\n",
       "</style><div class='table-result-container'><table class='table-result'><thead style='background-color: white'><tr><th>city</th><th>total_revenue</th></tr></thead><tbody><tr><td>Bangalore</td><td>64000</td></tr><tr><td>Delhi</td><td>55000</td></tr><tr><td>Hyderabad</td><td>5000</td></tr><tr><td>Mumbai</td><td>3500</td></tr></tbody></table></div>"
      ]
     },
     "metadata": {
      "application/vnd.databricks.v1+output": {
       "addedWidgets": {},
       "aggData": [],
       "aggError": "",
       "aggOverflow": false,
       "aggSchema": [],
       "aggSeriesLimitReached": false,
       "aggType": "",
       "arguments": {},
       "columnCustomDisplayInfos": {},
       "data": [
        [
         "Bangalore",
         64000
        ],
        [
         "Delhi",
         55000
        ],
        [
         "Hyderabad",
         5000
        ],
        [
         "Mumbai",
         3500
        ]
       ],
       "datasetInfos": [],
       "dbfsResultPath": null,
       "isJsonSchema": true,
       "metadata": {},
       "overflow": false,
       "plotOptions": {
        "customPlotOptions": {},
        "displayType": "table",
        "pivotAggregation": null,
        "pivotColumns": null,
        "xColumns": null,
        "yColumns": null
       },
       "removedWidgets": [],
       "schema": [
        {
         "metadata": "{}",
         "name": "city",
         "type": "\"string\""
        },
        {
         "metadata": "{}",
         "name": "total_revenue",
         "type": "\"long\""
        }
       ],
       "type": "table"
      }
     },
     "output_type": "display_data"
    },
    {
     "output_type": "stream",
     "name": "stdout",
     "output_type": "stream",
     "text": [
      "Average Customer Age per City:\n"
     ]
    },
    {
     "output_type": "display_data",
     "data": {
      "text/html": [
       "<style scoped>\n",
       "  .table-result-container {\n",
       "    max-height: 300px;\n",
       "    overflow: auto;\n",
       "  }\n",
       "  table, th, td {\n",
       "    border: 1px solid black;\n",
       "    border-collapse: collapse;\n",
       "  }\n",
       "  th, td {\n",
       "    padding: 5px;\n",
       "  }\n",
       "  th {\n",
       "    text-align: left;\n",
       "  }\n",
       "</style><div class='table-result-container'><table class='table-result'><thead style='background-color: white'><tr><th>city</th><th>average_age</th></tr></thead><tbody><tr><td>Bangalore</td><td>28.0</td></tr><tr><td>Chennai</td><td>35.0</td></tr><tr><td>Mumbai</td><td>30.0</td></tr><tr><td>Delhi</td><td>32.0</td></tr><tr><td>Hyderabad</td><td>25.0</td></tr></tbody></table></div>"
      ]
     },
     "metadata": {
      "application/vnd.databricks.v1+output": {
       "addedWidgets": {},
       "aggData": [],
       "aggError": "",
       "aggOverflow": false,
       "aggSchema": [],
       "aggSeriesLimitReached": false,
       "aggType": "",
       "arguments": {},
       "columnCustomDisplayInfos": {},
       "data": [
        [
         "Bangalore",
         28.0
        ],
        [
         "Chennai",
         35.0
        ],
        [
         "Mumbai",
         30.0
        ],
        [
         "Delhi",
         32.0
        ],
        [
         "Hyderabad",
         25.0
        ]
       ],
       "datasetInfos": [],
       "dbfsResultPath": null,
       "isJsonSchema": true,
       "metadata": {},
       "overflow": false,
       "plotOptions": {
        "customPlotOptions": {},
        "displayType": "table",
        "pivotAggregation": null,
        "pivotColumns": null,
        "xColumns": null,
        "yColumns": null
       },
       "removedWidgets": [],
       "schema": [
        {
         "metadata": "{}",
         "name": "city",
         "type": "\"string\""
        },
        {
         "metadata": "{}",
         "name": "average_age",
         "type": "\"double\""
        }
       ],
       "type": "table"
      }
     },
     "output_type": "display_data"
    },
    {
     "output_type": "stream",
     "name": "stdout",
     "output_type": "stream",
     "text": [
      "Total Revenue per Category:\n"
     ]
    },
    {
     "output_type": "display_data",
     "data": {
      "text/html": [
       "<style scoped>\n",
       "  .table-result-container {\n",
       "    max-height: 300px;\n",
       "    overflow: auto;\n",
       "  }\n",
       "  table, th, td {\n",
       "    border: 1px solid black;\n",
       "    border-collapse: collapse;\n",
       "  }\n",
       "  th, td {\n",
       "    padding: 5px;\n",
       "  }\n",
       "  th {\n",
       "    text-align: left;\n",
       "  }\n",
       "</style><div class='table-result-container'><table class='table-result'><thead style='background-color: white'><tr><th>category</th><th>total_revenue</th></tr></thead><tbody><tr><td>Electronics</td><td>169000</td></tr><tr><td>Furniture</td><td>5000</td></tr><tr><td>Fashion</td><td>5000</td></tr><tr><td>Stationery</td><td>3500</td></tr></tbody></table></div>"
      ]
     },
     "metadata": {
      "application/vnd.databricks.v1+output": {
       "addedWidgets": {},
       "aggData": [],
       "aggError": "",
       "aggOverflow": false,
       "aggSchema": [],
       "aggSeriesLimitReached": false,
       "aggType": "",
       "arguments": {},
       "columnCustomDisplayInfos": {},
       "data": [
        [
         "Electronics",
         169000
        ],
        [
         "Furniture",
         5000
        ],
        [
         "Fashion",
         5000
        ],
        [
         "Stationery",
         3500
        ]
       ],
       "datasetInfos": [],
       "dbfsResultPath": null,
       "isJsonSchema": true,
       "metadata": {},
       "overflow": false,
       "plotOptions": {
        "customPlotOptions": {},
        "displayType": "table",
        "pivotAggregation": null,
        "pivotColumns": null,
        "xColumns": null,
        "yColumns": null
       },
       "removedWidgets": [],
       "schema": [
        {
         "metadata": "{}",
         "name": "category",
         "type": "\"string\""
        },
        {
         "metadata": "{}",
         "name": "total_revenue",
         "type": "\"long\""
        }
       ],
       "type": "table"
      }
     },
     "output_type": "display_data"
    },
    {
     "output_type": "stream",
     "name": "stdout",
     "output_type": "stream",
     "text": [
      "Top 3 Customers by Total Spending:\n"
     ]
    },
    {
     "output_type": "display_data",
     "data": {
      "text/html": [
       "<style scoped>\n",
       "  .table-result-container {\n",
       "    max-height: 300px;\n",
       "    overflow: auto;\n",
       "  }\n",
       "  table, th, td {\n",
       "    border: 1px solid black;\n",
       "    border-collapse: collapse;\n",
       "  }\n",
       "  th, td {\n",
       "    padding: 5px;\n",
       "  }\n",
       "  th {\n",
       "    text-align: left;\n",
       "  }\n",
       "</style><div class='table-result-container'><table class='table-result'><thead style='background-color: white'><tr><th>customer_id</th><th>name</th><th>total_spent</th></tr></thead><tbody><tr><td>1</td><td>Rahul Sharma</td><td>64000</td></tr><tr><td>2</td><td>Priya Singh</td><td>50000</td></tr><tr><td>3</td><td>Aman Kumar</td><td>5000</td></tr></tbody></table></div>"
      ]
     },
     "metadata": {
      "application/vnd.databricks.v1+output": {
       "addedWidgets": {},
       "aggData": [],
       "aggError": "",
       "aggOverflow": false,
       "aggSchema": [],
       "aggSeriesLimitReached": false,
       "aggType": "",
       "arguments": {},
       "columnCustomDisplayInfos": {},
       "data": [
        [
         1,
         "Rahul Sharma",
         64000
        ],
        [
         2,
         "Priya Singh",
         50000
        ],
        [
         3,
         "Aman Kumar",
         5000
        ]
       ],
       "datasetInfos": [],
       "dbfsResultPath": null,
       "isJsonSchema": true,
       "metadata": {},
       "overflow": false,
       "plotOptions": {
        "customPlotOptions": {},
        "displayType": "table",
        "pivotAggregation": null,
        "pivotColumns": null,
        "xColumns": null,
        "yColumns": null
       },
       "removedWidgets": [],
       "schema": [
        {
         "metadata": "{}",
         "name": "customer_id",
         "type": "\"integer\""
        },
        {
         "metadata": "{}",
         "name": "name",
         "type": "\"string\""
        },
        {
         "metadata": "{}",
         "name": "total_spent",
         "type": "\"long\""
        }
       ],
       "type": "table"
      }
     },
     "output_type": "display_data"
    }
   ],
   "source": [
    "full_df = orders_total_df.join(customers_df, \"customer_id\")\n",
    "\n",
    "# 1. Find total revenue per city\n",
    "revenue_by_city_df = full_df.groupBy(\"city\") \\\n",
    "                            .agg(sum(\"total_price\").alias(\"total_revenue\")) \\\n",
    "                            .orderBy(desc(\"total_revenue\"))\n",
    "print(\"Total Revenue per City:\")\n",
    "display(revenue_by_city_df)\n",
    "\n",
    "\n",
    "# 2. Find average age of customers per city\n",
    "avg_age_by_city_df = customers_df.groupBy(\"city\") \\\n",
    "                                 .agg(avg(\"age\").alias(\"average_age\"))\n",
    "print(\"Average Customer Age per City:\")\n",
    "display(avg_age_by_city_df)\n",
    "\n",
    "\n",
    "# 3. Find total revenue per category\n",
    "revenue_by_category_df = orders_total_df.groupBy(\"category\") \\\n",
    "                                        .agg(sum(\"total_price\").alias(\"total_revenue\")) \\\n",
    "                                        .orderBy(desc(\"total_revenue\"))\n",
    "print(\"Total Revenue per Category:\")\n",
    "display(revenue_by_category_df)\n",
    "\n",
    "\n",
    "# 4. Find the top 3 customers by total spending\n",
    "top_customers_df = full_df.groupBy(\"customer_id\", \"name\") \\\n",
    "                          .agg(sum(\"total_price\").alias(\"total_spent\")) \\\n",
    "                          .orderBy(desc(\"total_spent\")) \\\n",
    "                          .limit(3)\n",
    "print(\"Top 3 Customers by Total Spending:\")\n",
    "display(top_customers_df)"
   ]
  },
  {
   "cell_type": "code",
   "execution_count": 0,
   "metadata": {
    "application/vnd.databricks.v1+cell": {
     "cellMetadata": {
      "byteLimit": 2048000,
      "rowLimit": 10000
     },
     "inputWidgets": {},
     "nuid": "edcec40e-ef08-4c6a-b8c5-1a907aeaafb2",
     "showTitle": false,
     "tableResultSettingsMap": {},
     "title": ""
    }
   },
   "outputs": [
    {
     "output_type": "stream",
     "name": "stdout",
     "output_type": "stream",
     "text": [
      "Inner Join (Orders & Customers):\n"
     ]
    },
    {
     "output_type": "display_data",
     "data": {
      "text/html": [
       "<style scoped>\n",
       "  .table-result-container {\n",
       "    max-height: 300px;\n",
       "    overflow: auto;\n",
       "  }\n",
       "  table, th, td {\n",
       "    border: 1px solid black;\n",
       "    border-collapse: collapse;\n",
       "  }\n",
       "  th, td {\n",
       "    padding: 5px;\n",
       "  }\n",
       "  th {\n",
       "    text-align: left;\n",
       "  }\n",
       "</style><div class='table-result-container'><table class='table-result'><thead style='background-color: white'><tr><th>customer_id</th><th>order_id</th><th>product_id</th><th>quantity</th><th>order_date</th><th>name</th><th>city</th><th>age</th></tr></thead><tbody><tr><td>1</td><td>1001</td><td>101</td><td>1</td><td>2024-01-10</td><td>Rahul Sharma</td><td>Bangalore</td><td>28</td></tr><tr><td>2</td><td>1002</td><td>102</td><td>2</td><td>2024-01-12</td><td>Priya Singh</td><td>Delhi</td><td>32</td></tr><tr><td>1</td><td>1003</td><td>103</td><td>3</td><td>2024-02-05</td><td>Rahul Sharma</td><td>Bangalore</td><td>28</td></tr><tr><td>3</td><td>1004</td><td>104</td><td>1</td><td>2024-02-08</td><td>Aman Kumar</td><td>Hyderabad</td><td>25</td></tr><tr><td>5</td><td>1005</td><td>105</td><td>5</td><td>2024-03-01</td><td>Arjun Mehta</td><td>Mumbai</td><td>30</td></tr><tr><td>6</td><td>1006</td><td>106</td><td>2</td><td>2024-03-15</td><td>Divya Nair</td><td>Delhi</td><td>null</td></tr></tbody></table></div>"
      ]
     },
     "metadata": {
      "application/vnd.databricks.v1+output": {
       "addedWidgets": {},
       "aggData": [],
       "aggError": "",
       "aggOverflow": false,
       "aggSchema": [],
       "aggSeriesLimitReached": false,
       "aggType": "",
       "arguments": {},
       "columnCustomDisplayInfos": {},
       "data": [
        [
         1,
         1001,
         101,
         1,
         "2024-01-10",
         "Rahul Sharma",
         "Bangalore",
         28
        ],
        [
         2,
         1002,
         102,
         2,
         "2024-01-12",
         "Priya Singh",
         "Delhi",
         32
        ],
        [
         1,
         1003,
         103,
         3,
         "2024-02-05",
         "Rahul Sharma",
         "Bangalore",
         28
        ],
        [
         3,
         1004,
         104,
         1,
         "2024-02-08",
         "Aman Kumar",
         "Hyderabad",
         25
        ],
        [
         5,
         1005,
         105,
         5,
         "2024-03-01",
         "Arjun Mehta",
         "Mumbai",
         30
        ],
        [
         6,
         1006,
         106,
         2,
         "2024-03-15",
         "Divya Nair",
         "Delhi",
         null
        ]
       ],
       "datasetInfos": [],
       "dbfsResultPath": null,
       "isJsonSchema": true,
       "metadata": {},
       "overflow": false,
       "plotOptions": {
        "customPlotOptions": {},
        "displayType": "table",
        "pivotAggregation": null,
        "pivotColumns": null,
        "xColumns": null,
        "yColumns": null
       },
       "removedWidgets": [],
       "schema": [
        {
         "metadata": "{}",
         "name": "customer_id",
         "type": "\"integer\""
        },
        {
         "metadata": "{}",
         "name": "order_id",
         "type": "\"integer\""
        },
        {
         "metadata": "{}",
         "name": "product_id",
         "type": "\"integer\""
        },
        {
         "metadata": "{}",
         "name": "quantity",
         "type": "\"integer\""
        },
        {
         "metadata": "{\"__detected_date_formats\":\"d-M-yyyy\"}",
         "name": "order_date",
         "type": "\"date\""
        },
        {
         "metadata": "{}",
         "name": "name",
         "type": "\"string\""
        },
        {
         "metadata": "{}",
         "name": "city",
         "type": "\"string\""
        },
        {
         "metadata": "{}",
         "name": "age",
         "type": "\"integer\""
        }
       ],
       "type": "table"
      }
     },
     "output_type": "display_data"
    },
    {
     "output_type": "stream",
     "name": "stdout",
     "output_type": "stream",
     "text": [
      "Left Join (Customers & Orders):\n"
     ]
    },
    {
     "output_type": "display_data",
     "data": {
      "text/html": [
       "<style scoped>\n",
       "  .table-result-container {\n",
       "    max-height: 300px;\n",
       "    overflow: auto;\n",
       "  }\n",
       "  table, th, td {\n",
       "    border: 1px solid black;\n",
       "    border-collapse: collapse;\n",
       "  }\n",
       "  th, td {\n",
       "    padding: 5px;\n",
       "  }\n",
       "  th {\n",
       "    text-align: left;\n",
       "  }\n",
       "</style><div class='table-result-container'><table class='table-result'><thead style='background-color: white'><tr><th>customer_id</th><th>name</th><th>city</th><th>age</th><th>order_id</th><th>product_id</th><th>quantity</th><th>order_date</th></tr></thead><tbody><tr><td>1</td><td>Rahul Sharma</td><td>Bangalore</td><td>28</td><td>1003</td><td>103</td><td>3</td><td>2024-02-05</td></tr><tr><td>6</td><td>Divya Nair</td><td>Delhi</td><td>null</td><td>1006</td><td>106</td><td>2</td><td>2024-03-15</td></tr><tr><td>3</td><td>Aman Kumar</td><td>Hyderabad</td><td>25</td><td>1004</td><td>104</td><td>1</td><td>2024-02-08</td></tr><tr><td>5</td><td>Arjun Mehta</td><td>Mumbai</td><td>30</td><td>1005</td><td>105</td><td>5</td><td>2024-03-01</td></tr><tr><td>4</td><td>Sneha Reddy</td><td>Chennai</td><td>35</td><td>null</td><td>null</td><td>null</td><td>null</td></tr><tr><td>2</td><td>Priya Singh</td><td>Delhi</td><td>32</td><td>1002</td><td>102</td><td>2</td><td>2024-01-12</td></tr><tr><td>1</td><td>Rahul Sharma</td><td>Bangalore</td><td>28</td><td>1001</td><td>101</td><td>1</td><td>2024-01-10</td></tr></tbody></table></div>"
      ]
     },
     "metadata": {
      "application/vnd.databricks.v1+output": {
       "addedWidgets": {},
       "aggData": [],
       "aggError": "",
       "aggOverflow": false,
       "aggSchema": [],
       "aggSeriesLimitReached": false,
       "aggType": "",
       "arguments": {},
       "columnCustomDisplayInfos": {},
       "data": [
        [
         1,
         "Rahul Sharma",
         "Bangalore",
         28,
         1003,
         103,
         3,
         "2024-02-05"
        ],
        [
         6,
         "Divya Nair",
         "Delhi",
         null,
         1006,
         106,
         2,
         "2024-03-15"
        ],
        [
         3,
         "Aman Kumar",
         "Hyderabad",
         25,
         1004,
         104,
         1,
         "2024-02-08"
        ],
        [
         5,
         "Arjun Mehta",
         "Mumbai",
         30,
         1005,
         105,
         5,
         "2024-03-01"
        ],
        [
         4,
         "Sneha Reddy",
         "Chennai",
         35,
         null,
         null,
         null,
         null
        ],
        [
         2,
         "Priya Singh",
         "Delhi",
         32,
         1002,
         102,
         2,
         "2024-01-12"
        ],
        [
         1,
         "Rahul Sharma",
         "Bangalore",
         28,
         1001,
         101,
         1,
         "2024-01-10"
        ]
       ],
       "datasetInfos": [],
       "dbfsResultPath": null,
       "isJsonSchema": true,
       "metadata": {},
       "overflow": false,
       "plotOptions": {
        "customPlotOptions": {},
        "displayType": "table",
        "pivotAggregation": null,
        "pivotColumns": null,
        "xColumns": null,
        "yColumns": null
       },
       "removedWidgets": [],
       "schema": [
        {
         "metadata": "{}",
         "name": "customer_id",
         "type": "\"integer\""
        },
        {
         "metadata": "{}",
         "name": "name",
         "type": "\"string\""
        },
        {
         "metadata": "{}",
         "name": "city",
         "type": "\"string\""
        },
        {
         "metadata": "{}",
         "name": "age",
         "type": "\"integer\""
        },
        {
         "metadata": "{}",
         "name": "order_id",
         "type": "\"integer\""
        },
        {
         "metadata": "{}",
         "name": "product_id",
         "type": "\"integer\""
        },
        {
         "metadata": "{}",
         "name": "quantity",
         "type": "\"integer\""
        },
        {
         "metadata": "{\"__detected_date_formats\":\"d-M-yyyy\"}",
         "name": "order_date",
         "type": "\"date\""
        }
       ],
       "type": "table"
      }
     },
     "output_type": "display_data"
    },
    {
     "output_type": "stream",
     "name": "stdout",
     "output_type": "stream",
     "text": [
      "Right Join (Orders & Products):\n"
     ]
    },
    {
     "output_type": "display_data",
     "data": {
      "text/html": [
       "<style scoped>\n",
       "  .table-result-container {\n",
       "    max-height: 300px;\n",
       "    overflow: auto;\n",
       "  }\n",
       "  table, th, td {\n",
       "    border: 1px solid black;\n",
       "    border-collapse: collapse;\n",
       "  }\n",
       "  th, td {\n",
       "    padding: 5px;\n",
       "  }\n",
       "  th {\n",
       "    text-align: left;\n",
       "  }\n",
       "</style><div class='table-result-container'><table class='table-result'><thead style='background-color: white'><tr><th>product_id</th><th>order_id</th><th>customer_id</th><th>quantity</th><th>order_date</th><th>product_name</th><th>category</th><th>price</th></tr></thead><tbody><tr><td>101</td><td>1007</td><td>7</td><td>1</td><td>2024-03-20</td><td>Laptop</td><td>Electronics</td><td>55000</td></tr><tr><td>103</td><td>1003</td><td>1</td><td>3</td><td>2024-02-05</td><td>Headphones</td><td>Electronics</td><td>3000</td></tr><tr><td>102</td><td>1002</td><td>2</td><td>2</td><td>2024-01-12</td><td>Mobile</td><td>Electronics</td><td>25000</td></tr><tr><td>105</td><td>1005</td><td>5</td><td>5</td><td>2024-03-01</td><td>Book</td><td>Stationery</td><td>700</td></tr><tr><td>106</td><td>1006</td><td>6</td><td>2</td><td>2024-03-15</td><td>Shoes</td><td>Fashion</td><td>2500</td></tr><tr><td>104</td><td>1004</td><td>3</td><td>1</td><td>2024-02-08</td><td>Chair</td><td>Furniture</td><td>5000</td></tr><tr><td>101</td><td>1001</td><td>1</td><td>1</td><td>2024-01-10</td><td>Laptop</td><td>Electronics</td><td>55000</td></tr></tbody></table></div>"
      ]
     },
     "metadata": {
      "application/vnd.databricks.v1+output": {
       "addedWidgets": {},
       "aggData": [],
       "aggError": "",
       "aggOverflow": false,
       "aggSchema": [],
       "aggSeriesLimitReached": false,
       "aggType": "",
       "arguments": {},
       "columnCustomDisplayInfos": {},
       "data": [
        [
         101,
         1007,
         7,
         1,
         "2024-03-20",
         "Laptop",
         "Electronics",
         55000
        ],
        [
         103,
         1003,
         1,
         3,
         "2024-02-05",
         "Headphones",
         "Electronics",
         3000
        ],
        [
         102,
         1002,
         2,
         2,
         "2024-01-12",
         "Mobile",
         "Electronics",
         25000
        ],
        [
         105,
         1005,
         5,
         5,
         "2024-03-01",
         "Book",
         "Stationery",
         700
        ],
        [
         106,
         1006,
         6,
         2,
         "2024-03-15",
         "Shoes",
         "Fashion",
         2500
        ],
        [
         104,
         1004,
         3,
         1,
         "2024-02-08",
         "Chair",
         "Furniture",
         5000
        ],
        [
         101,
         1001,
         1,
         1,
         "2024-01-10",
         "Laptop",
         "Electronics",
         55000
        ]
       ],
       "datasetInfos": [],
       "dbfsResultPath": null,
       "isJsonSchema": true,
       "metadata": {},
       "overflow": false,
       "plotOptions": {
        "customPlotOptions": {},
        "displayType": "table",
        "pivotAggregation": null,
        "pivotColumns": null,
        "xColumns": null,
        "yColumns": null
       },
       "removedWidgets": [],
       "schema": [
        {
         "metadata": "{}",
         "name": "product_id",
         "type": "\"integer\""
        },
        {
         "metadata": "{}",
         "name": "order_id",
         "type": "\"integer\""
        },
        {
         "metadata": "{}",
         "name": "customer_id",
         "type": "\"integer\""
        },
        {
         "metadata": "{}",
         "name": "quantity",
         "type": "\"integer\""
        },
        {
         "metadata": "{\"__detected_date_formats\":\"d-M-yyyy\"}",
         "name": "order_date",
         "type": "\"date\""
        },
        {
         "metadata": "{}",
         "name": "product_name",
         "type": "\"string\""
        },
        {
         "metadata": "{}",
         "name": "category",
         "type": "\"string\""
        },
        {
         "metadata": "{}",
         "name": "price",
         "type": "\"integer\""
        }
       ],
       "type": "table"
      }
     },
     "output_type": "display_data"
    },
    {
     "output_type": "stream",
     "name": "stdout",
     "output_type": "stream",
     "text": [
      "Customers with NO orders:\n"
     ]
    },
    {
     "output_type": "display_data",
     "data": {
      "text/html": [
       "<style scoped>\n",
       "  .table-result-container {\n",
       "    max-height: 300px;\n",
       "    overflow: auto;\n",
       "  }\n",
       "  table, th, td {\n",
       "    border: 1px solid black;\n",
       "    border-collapse: collapse;\n",
       "  }\n",
       "  th, td {\n",
       "    padding: 5px;\n",
       "  }\n",
       "  th {\n",
       "    text-align: left;\n",
       "  }\n",
       "</style><div class='table-result-container'><table class='table-result'><thead style='background-color: white'><tr><th>customer_id</th><th>name</th><th>city</th><th>age</th><th>order_id</th><th>product_id</th><th>quantity</th><th>order_date</th></tr></thead><tbody><tr><td>4</td><td>Sneha Reddy</td><td>Chennai</td><td>35</td><td>null</td><td>null</td><td>null</td><td>null</td></tr></tbody></table></div>"
      ]
     },
     "metadata": {
      "application/vnd.databricks.v1+output": {
       "addedWidgets": {},
       "aggData": [],
       "aggError": "",
       "aggOverflow": false,
       "aggSchema": [],
       "aggSeriesLimitReached": false,
       "aggType": "",
       "arguments": {},
       "columnCustomDisplayInfos": {},
       "data": [
        [
         4,
         "Sneha Reddy",
         "Chennai",
         35,
         null,
         null,
         null,
         null
        ]
       ],
       "datasetInfos": [],
       "dbfsResultPath": null,
       "isJsonSchema": true,
       "metadata": {},
       "overflow": false,
       "plotOptions": {
        "customPlotOptions": {},
        "displayType": "table",
        "pivotAggregation": null,
        "pivotColumns": null,
        "xColumns": null,
        "yColumns": null
       },
       "removedWidgets": [],
       "schema": [
        {
         "metadata": "{}",
         "name": "customer_id",
         "type": "\"integer\""
        },
        {
         "metadata": "{}",
         "name": "name",
         "type": "\"string\""
        },
        {
         "metadata": "{}",
         "name": "city",
         "type": "\"string\""
        },
        {
         "metadata": "{}",
         "name": "age",
         "type": "\"integer\""
        },
        {
         "metadata": "{}",
         "name": "order_id",
         "type": "\"integer\""
        },
        {
         "metadata": "{}",
         "name": "product_id",
         "type": "\"integer\""
        },
        {
         "metadata": "{}",
         "name": "quantity",
         "type": "\"integer\""
        },
        {
         "metadata": "{\"__detected_date_formats\":\"d-M-yyyy\"}",
         "name": "order_date",
         "type": "\"date\""
        }
       ],
       "type": "table"
      }
     },
     "output_type": "display_data"
    },
    {
     "output_type": "stream",
     "name": "stdout",
     "output_type": "stream",
     "text": [
      "Products that were NEVER ordered:\n"
     ]
    },
    {
     "output_type": "display_data",
     "data": {
      "text/html": [
       "<style scoped>\n",
       "  .table-result-container {\n",
       "    max-height: 300px;\n",
       "    overflow: auto;\n",
       "  }\n",
       "  table, th, td {\n",
       "    border: 1px solid black;\n",
       "    border-collapse: collapse;\n",
       "  }\n",
       "  th, td {\n",
       "    padding: 5px;\n",
       "  }\n",
       "  th {\n",
       "    text-align: left;\n",
       "  }\n",
       "</style><div class='table-result-container'><table class='table-result'><thead style='background-color: white'><tr><th>product_id</th><th>product_name</th><th>category</th><th>price</th><th>order_id</th><th>customer_id</th><th>quantity</th><th>order_date</th></tr></thead><tbody></tbody></table></div>"
      ]
     },
     "metadata": {
      "application/vnd.databricks.v1+output": {
       "addedWidgets": {},
       "aggData": [],
       "aggError": "",
       "aggOverflow": false,
       "aggSchema": [],
       "aggSeriesLimitReached": false,
       "aggType": "",
       "arguments": {},
       "columnCustomDisplayInfos": {},
       "data": [],
       "datasetInfos": [],
       "dbfsResultPath": null,
       "isJsonSchema": true,
       "metadata": {},
       "overflow": false,
       "plotOptions": {
        "customPlotOptions": {},
        "displayType": "table",
        "pivotAggregation": null,
        "pivotColumns": null,
        "xColumns": null,
        "yColumns": null
       },
       "removedWidgets": [],
       "schema": [
        {
         "metadata": "{}",
         "name": "product_id",
         "type": "\"integer\""
        },
        {
         "metadata": "{}",
         "name": "product_name",
         "type": "\"string\""
        },
        {
         "metadata": "{}",
         "name": "category",
         "type": "\"string\""
        },
        {
         "metadata": "{}",
         "name": "price",
         "type": "\"integer\""
        },
        {
         "metadata": "{}",
         "name": "order_id",
         "type": "\"integer\""
        },
        {
         "metadata": "{}",
         "name": "customer_id",
         "type": "\"integer\""
        },
        {
         "metadata": "{}",
         "name": "quantity",
         "type": "\"integer\""
        },
        {
         "metadata": "{\"__detected_date_formats\":\"d-M-yyyy\"}",
         "name": "order_date",
         "type": "\"date\""
        }
       ],
       "type": "table"
      }
     },
     "output_type": "display_data"
    }
   ],
   "source": [
    "# 1. Perform Joins\n",
    "print(\"Inner Join (Orders & Customers):\")\n",
    "inner_join_df = orders_df.join(customers_df, \"customer_id\", \"inner\")\n",
    "display(inner_join_df)\n",
    "\n",
    "print(\"Left Join (Customers & Orders):\")\n",
    "left_join_df = customers_df.join(orders_df, \"customer_id\", \"left\")\n",
    "display(left_join_df)\n",
    "\n",
    "print(\"Right Join (Orders & Products):\")\n",
    "right_join_df = orders_df.join(products_df, \"product_id\", \"right\")\n",
    "display(right_join_df)\n",
    "\n",
    "\n",
    "# 2. Identify...\n",
    "# Customers with no orders (using the left join from above)\n",
    "customers_no_orders_df = left_join_df.filter(col(\"order_id\").isNull())\n",
    "print(\"Customers with NO orders:\")\n",
    "display(customers_no_orders_df)\n",
    "\n",
    "\n",
    "# Products that were never ordered (using a right join is also an option, but left is clearer)\n",
    "products_never_ordered_df = products_df.join(orders_df, \"product_id\", \"left\") \\\n",
    "                                       .filter(col(\"order_id\").isNull())\n",
    "print(\"Products that were NEVER ordered:\")\n",
    "display(products_never_ordered_df)"
   ]
  },
  {
   "cell_type": "code",
   "execution_count": 0,
   "metadata": {
    "application/vnd.databricks.v1+cell": {
     "cellMetadata": {
      "byteLimit": 2048000,
      "rowLimit": 10000
     },
     "inputWidgets": {},
     "nuid": "4c56a84a-abeb-4291-ba0f-36049445bde1",
     "showTitle": false,
     "tableResultSettingsMap": {},
     "title": ""
    }
   },
   "outputs": [
    {
     "output_type": "stream",
     "name": "stdout",
     "output_type": "stream",
     "text": [
      "SQL: Top 2 Cities by Revenue:\n"
     ]
    },
    {
     "output_type": "display_data",
     "data": {
      "text/html": [
       "<style scoped>\n",
       "  .table-result-container {\n",
       "    max-height: 300px;\n",
       "    overflow: auto;\n",
       "  }\n",
       "  table, th, td {\n",
       "    border: 1px solid black;\n",
       "    border-collapse: collapse;\n",
       "  }\n",
       "  th, td {\n",
       "    padding: 5px;\n",
       "  }\n",
       "  th {\n",
       "    text-align: left;\n",
       "  }\n",
       "</style><div class='table-result-container'><table class='table-result'><thead style='background-color: white'><tr><th>city</th><th>total_revenue</th></tr></thead><tbody><tr><td>Bangalore</td><td>64000</td></tr><tr><td>Delhi</td><td>55000</td></tr></tbody></table></div>"
      ]
     },
     "metadata": {
      "application/vnd.databricks.v1+output": {
       "addedWidgets": {},
       "aggData": [],
       "aggError": "",
       "aggOverflow": false,
       "aggSchema": [],
       "aggSeriesLimitReached": false,
       "aggType": "",
       "arguments": {},
       "columnCustomDisplayInfos": {},
       "data": [
        [
         "Bangalore",
         64000
        ],
        [
         "Delhi",
         55000
        ]
       ],
       "datasetInfos": [],
       "dbfsResultPath": null,
       "isJsonSchema": true,
       "metadata": {},
       "overflow": false,
       "plotOptions": {
        "customPlotOptions": {},
        "displayType": "table",
        "pivotAggregation": null,
        "pivotColumns": null,
        "xColumns": null,
        "yColumns": null
       },
       "removedWidgets": [],
       "schema": [
        {
         "metadata": "{}",
         "name": "city",
         "type": "\"string\""
        },
        {
         "metadata": "{}",
         "name": "total_revenue",
         "type": "\"long\""
        }
       ],
       "type": "table"
      }
     },
     "output_type": "display_data"
    },
    {
     "output_type": "stream",
     "name": "stdout",
     "output_type": "stream",
     "text": [
      "SQL: Most Popular Category by Revenue:\n"
     ]
    },
    {
     "output_type": "display_data",
     "data": {
      "text/html": [
       "<style scoped>\n",
       "  .table-result-container {\n",
       "    max-height: 300px;\n",
       "    overflow: auto;\n",
       "  }\n",
       "  table, th, td {\n",
       "    border: 1px solid black;\n",
       "    border-collapse: collapse;\n",
       "  }\n",
       "  th, td {\n",
       "    padding: 5px;\n",
       "  }\n",
       "  th {\n",
       "    text-align: left;\n",
       "  }\n",
       "</style><div class='table-result-container'><table class='table-result'><thead style='background-color: white'><tr><th>category</th><th>total_revenue</th></tr></thead><tbody><tr><td>Electronics</td><td>169000</td></tr></tbody></table></div>"
      ]
     },
     "metadata": {
      "application/vnd.databricks.v1+output": {
       "addedWidgets": {},
       "aggData": [],
       "aggError": "",
       "aggOverflow": false,
       "aggSchema": [],
       "aggSeriesLimitReached": false,
       "aggType": "",
       "arguments": {},
       "columnCustomDisplayInfos": {},
       "data": [
        [
         "Electronics",
         169000
        ]
       ],
       "datasetInfos": [],
       "dbfsResultPath": null,
       "isJsonSchema": true,
       "metadata": {},
       "overflow": false,
       "plotOptions": {
        "customPlotOptions": {},
        "displayType": "table",
        "pivotAggregation": null,
        "pivotColumns": null,
        "xColumns": null,
        "yColumns": null
       },
       "removedWidgets": [],
       "schema": [
        {
         "metadata": "{}",
         "name": "category",
         "type": "\"string\""
        },
        {
         "metadata": "{}",
         "name": "total_revenue",
         "type": "\"long\""
        }
       ],
       "type": "table"
      }
     },
     "output_type": "display_data"
    },
    {
     "output_type": "stream",
     "name": "stdout",
     "output_type": "stream",
     "text": [
      "SQL: Customers who spent > 50,000:\n"
     ]
    },
    {
     "output_type": "display_data",
     "data": {
      "text/html": [
       "<style scoped>\n",
       "  .table-result-container {\n",
       "    max-height: 300px;\n",
       "    overflow: auto;\n",
       "  }\n",
       "  table, th, td {\n",
       "    border: 1px solid black;\n",
       "    border-collapse: collapse;\n",
       "  }\n",
       "  th, td {\n",
       "    padding: 5px;\n",
       "  }\n",
       "  th {\n",
       "    text-align: left;\n",
       "  }\n",
       "</style><div class='table-result-container'><table class='table-result'><thead style='background-color: white'><tr><th>name</th><th>total_spent</th></tr></thead><tbody><tr><td>Rahul Sharma</td><td>64000</td></tr></tbody></table></div>"
      ]
     },
     "metadata": {
      "application/vnd.databricks.v1+output": {
       "addedWidgets": {},
       "aggData": [],
       "aggError": "",
       "aggOverflow": false,
       "aggSchema": [],
       "aggSeriesLimitReached": false,
       "aggType": "",
       "arguments": {},
       "columnCustomDisplayInfos": {},
       "data": [
        [
         "Rahul Sharma",
         64000
        ]
       ],
       "datasetInfos": [],
       "dbfsResultPath": null,
       "isJsonSchema": true,
       "metadata": {},
       "overflow": false,
       "plotOptions": {
        "customPlotOptions": {},
        "displayType": "table",
        "pivotAggregation": null,
        "pivotColumns": null,
        "xColumns": null,
        "yColumns": null
       },
       "removedWidgets": [],
       "schema": [
        {
         "metadata": "{}",
         "name": "name",
         "type": "\"string\""
        },
        {
         "metadata": "{}",
         "name": "total_spent",
         "type": "\"long\""
        }
       ],
       "type": "table"
      }
     },
     "output_type": "display_data"
    },
    {
     "output_type": "stream",
     "name": "stdout",
     "output_type": "stream",
     "text": [
      "SQL: Monthly Sales Trend:\n"
     ]
    },
    {
     "output_type": "display_data",
     "data": {
      "text/html": [
       "<style scoped>\n",
       "  .table-result-container {\n",
       "    max-height: 300px;\n",
       "    overflow: auto;\n",
       "  }\n",
       "  table, th, td {\n",
       "    border: 1px solid black;\n",
       "    border-collapse: collapse;\n",
       "  }\n",
       "  th, td {\n",
       "    padding: 5px;\n",
       "  }\n",
       "  th {\n",
       "    text-align: left;\n",
       "  }\n",
       "</style><div class='table-result-container'><table class='table-result'><thead style='background-color: white'><tr><th>sales_month</th><th>monthly_revenue</th></tr></thead><tbody><tr><td>1</td><td>105000</td></tr><tr><td>2</td><td>14000</td></tr><tr><td>3</td><td>63500</td></tr></tbody></table></div>"
      ]
     },
     "metadata": {
      "application/vnd.databricks.v1+output": {
       "addedWidgets": {},
       "aggData": [],
       "aggError": "",
       "aggOverflow": false,
       "aggSchema": [],
       "aggSeriesLimitReached": false,
       "aggType": "",
       "arguments": {},
       "columnCustomDisplayInfos": {},
       "data": [
        [
         1,
         105000
        ],
        [
         2,
         14000
        ],
        [
         3,
         63500
        ]
       ],
       "datasetInfos": [],
       "dbfsResultPath": null,
       "isJsonSchema": true,
       "metadata": {},
       "overflow": false,
       "plotOptions": {
        "customPlotOptions": {},
        "displayType": "table",
        "pivotAggregation": null,
        "pivotColumns": null,
        "xColumns": null,
        "yColumns": null
       },
       "removedWidgets": [],
       "schema": [
        {
         "metadata": "{}",
         "name": "sales_month",
         "type": "\"integer\""
        },
        {
         "metadata": "{}",
         "name": "monthly_revenue",
         "type": "\"long\""
        }
       ],
       "type": "table"
      }
     },
     "output_type": "display_data"
    }
   ],
   "source": [
    "# Create temporary views to run SQL queries on them\n",
    "customers_df.createOrReplaceTempView(\"customers\")\n",
    "products_df.createOrReplaceTempView(\"products\")\n",
    "orders_total_df.createOrReplaceTempView(\"orders_with_total\") # Renamed to avoid confusion with 'orders' table\n",
    "\n",
    "# 1. Top 2 cities by total revenue\n",
    "top_2_cities_sql = spark.sql(\"\"\"\n",
    "    SELECT c.city, SUM(o.total_price) AS total_revenue\n",
    "    FROM orders_with_total o\n",
    "    JOIN customers c ON o.customer_id = c.customer_id\n",
    "    GROUP BY c.city\n",
    "    ORDER BY total_revenue DESC\n",
    "    LIMIT 2\n",
    "\"\"\")\n",
    "print(\"SQL: Top 2 Cities by Revenue:\")\n",
    "display(top_2_cities_sql)\n",
    "\n",
    "\n",
    "# 2. Most popular category by revenue\n",
    "popular_category_sql = spark.sql(\"\"\"\n",
    "    SELECT category, SUM(total_price) AS total_revenue\n",
    "    FROM orders_with_total\n",
    "    GROUP BY category\n",
    "    ORDER BY total_revenue DESC\n",
    "    LIMIT 1\n",
    "\"\"\")\n",
    "print(\"SQL: Most Popular Category by Revenue:\")\n",
    "display(popular_category_sql)\n",
    "\n",
    "\n",
    "# 3. Customers who spent > 50,000\n",
    "high_spending_customers_sql = spark.sql(\"\"\"\n",
    "    SELECT c.name, SUM(o.total_price) AS total_spent\n",
    "    FROM orders_with_total o\n",
    "    JOIN customers c ON o.customer_id = c.customer_id\n",
    "    GROUP BY c.name\n",
    "    HAVING total_spent > 50000\n",
    "\"\"\")\n",
    "print(\"SQL: Customers who spent > 50,000:\")\n",
    "display(high_spending_customers_sql)\n",
    "\n",
    "\n",
    "# 4. Monthly sales trend\n",
    "monthly_sales_sql = spark.sql(\"\"\"\n",
    "    SELECT month(order_date) AS sales_month, SUM(total_price) AS monthly_revenue\n",
    "    FROM orders_with_total\n",
    "    GROUP BY sales_month\n",
    "    ORDER BY sales_month\n",
    "\"\"\")\n",
    "print(\"SQL: Monthly Sales Trend:\")\n",
    "display(monthly_sales_sql)"
   ]
  },
  {
   "cell_type": "code",
   "execution_count": 0,
   "metadata": {
    "application/vnd.databricks.v1+cell": {
     "cellMetadata": {
      "byteLimit": 2048000,
      "rowLimit": 10000
     },
     "inputWidgets": {},
     "nuid": "3ddd2e09-fb15-4404-a753-09144630df10",
     "showTitle": false,
     "tableResultSettingsMap": {},
     "title": ""
    }
   },
   "outputs": [
    {
     "output_type": "display_data",
     "data": {
      "text/html": [
       "<style scoped>\n",
       "  .table-result-container {\n",
       "    max-height: 300px;\n",
       "    overflow: auto;\n",
       "  }\n",
       "  table, th, td {\n",
       "    border: 1px solid black;\n",
       "    border-collapse: collapse;\n",
       "  }\n",
       "  th, td {\n",
       "    padding: 5px;\n",
       "  }\n",
       "  th {\n",
       "    text-align: left;\n",
       "  }\n",
       "</style><div class='table-result-container'><table class='table-result'><thead style='background-color: white'><tr><th>path</th><th>name</th><th>size</th><th>modificationTime</th></tr></thead><tbody><tr><td>dbfs:/FileStore/tables/orders_summary/_SUCCESS</td><td>_SUCCESS</td><td>0</td><td>1759817581000</td></tr><tr><td>dbfs:/FileStore/tables/orders_summary/_committed_1828102527447081006</td><td>_committed_1828102527447081006</td><td>112</td><td>1759817581000</td></tr><tr><td>dbfs:/FileStore/tables/orders_summary/_started_1828102527447081006</td><td>_started_1828102527447081006</td><td>0</td><td>1759817581000</td></tr><tr><td>dbfs:/FileStore/tables/orders_summary/part-00000-tid-1828102527447081006-4289239a-3630-4f18-9e70-e020d4d0ae66-78-1-c000.csv</td><td>part-00000-tid-1828102527447081006-4289239a-3630-4f18-9e70-e020d4d0ae66-78-1-c000.csv</td><td>369</td><td>1759817581000</td></tr></tbody></table></div>"
      ]
     },
     "metadata": {
      "application/vnd.databricks.v1+output": {
       "addedWidgets": {},
       "aggData": [],
       "aggError": "",
       "aggOverflow": false,
       "aggSchema": [],
       "aggSeriesLimitReached": false,
       "aggType": "",
       "arguments": {},
       "columnCustomDisplayInfos": {},
       "data": [
        [
         "dbfs:/FileStore/tables/orders_summary/_SUCCESS",
         "_SUCCESS",
         0,
         1759817581000
        ],
        [
         "dbfs:/FileStore/tables/orders_summary/_committed_1828102527447081006",
         "_committed_1828102527447081006",
         112,
         1759817581000
        ],
        [
         "dbfs:/FileStore/tables/orders_summary/_started_1828102527447081006",
         "_started_1828102527447081006",
         0,
         1759817581000
        ],
        [
         "dbfs:/FileStore/tables/orders_summary/part-00000-tid-1828102527447081006-4289239a-3630-4f18-9e70-e020d4d0ae66-78-1-c000.csv",
         "part-00000-tid-1828102527447081006-4289239a-3630-4f18-9e70-e020d4d0ae66-78-1-c000.csv",
         369,
         1759817581000
        ]
       ],
       "datasetInfos": [],
       "dbfsResultPath": null,
       "isJsonSchema": true,
       "metadata": {},
       "overflow": false,
       "plotOptions": {
        "customPlotOptions": {},
        "displayType": "table",
        "pivotAggregation": null,
        "pivotColumns": null,
        "xColumns": null,
        "yColumns": null
       },
       "removedWidgets": [],
       "schema": [
        {
         "metadata": "{}",
         "name": "path",
         "type": "\"string\""
        },
        {
         "metadata": "{}",
         "name": "name",
         "type": "\"string\""
        },
        {
         "metadata": "{}",
         "name": "size",
         "type": "\"long\""
        },
        {
         "metadata": "{}",
         "name": "modificationTime",
         "type": "\"long\""
        }
       ],
       "type": "table"
      }
     },
     "output_type": "display_data"
    },
    {
     "output_type": "display_data",
     "data": {
      "text/html": [
       "<style scoped>\n",
       "  .table-result-container {\n",
       "    max-height: 300px;\n",
       "    overflow: auto;\n",
       "  }\n",
       "  table, th, td {\n",
       "    border: 1px solid black;\n",
       "    border-collapse: collapse;\n",
       "  }\n",
       "  th, td {\n",
       "    padding: 5px;\n",
       "  }\n",
       "  th {\n",
       "    text-align: left;\n",
       "  }\n",
       "</style><div class='table-result-container'><table class='table-result'><thead style='background-color: white'><tr><th>101</th><th>1001</th><th>12</th><th>13</th><th>2024-01-10</th><th>Laptop</th><th>Electronics</th><th>550007</th><th>550008</th></tr></thead><tbody><tr><td>102</td><td>1002</td><td>2</td><td>2</td><td>2024-01-12</td><td>Mobile</td><td>Electronics</td><td>25000</td><td>50000</td></tr><tr><td>103</td><td>1003</td><td>1</td><td>3</td><td>2024-02-05</td><td>Headphones</td><td>Electronics</td><td>3000</td><td>9000</td></tr><tr><td>104</td><td>1004</td><td>3</td><td>1</td><td>2024-02-08</td><td>Chair</td><td>Furniture</td><td>5000</td><td>5000</td></tr><tr><td>105</td><td>1005</td><td>5</td><td>5</td><td>2024-03-01</td><td>Book</td><td>Stationery</td><td>700</td><td>3500</td></tr><tr><td>106</td><td>1006</td><td>6</td><td>2</td><td>2024-03-15</td><td>Shoes</td><td>Fashion</td><td>2500</td><td>5000</td></tr><tr><td>101</td><td>1007</td><td>7</td><td>1</td><td>2024-03-20</td><td>Laptop</td><td>Electronics</td><td>55000</td><td>55000</td></tr></tbody></table></div>"
      ]
     },
     "metadata": {
      "application/vnd.databricks.v1+output": {
       "addedWidgets": {},
       "aggData": [],
       "aggError": "",
       "aggOverflow": false,
       "aggSchema": [],
       "aggSeriesLimitReached": false,
       "aggType": "",
       "arguments": {},
       "columnCustomDisplayInfos": {},
       "data": [
        [
         102,
         1002,
         2,
         2,
         "2024-01-12",
         "Mobile",
         "Electronics",
         25000,
         50000
        ],
        [
         103,
         1003,
         1,
         3,
         "2024-02-05",
         "Headphones",
         "Electronics",
         3000,
         9000
        ],
        [
         104,
         1004,
         3,
         1,
         "2024-02-08",
         "Chair",
         "Furniture",
         5000,
         5000
        ],
        [
         105,
         1005,
         5,
         5,
         "2024-03-01",
         "Book",
         "Stationery",
         700,
         3500
        ],
        [
         106,
         1006,
         6,
         2,
         "2024-03-15",
         "Shoes",
         "Fashion",
         2500,
         5000
        ],
        [
         101,
         1007,
         7,
         1,
         "2024-03-20",
         "Laptop",
         "Electronics",
         55000,
         55000
        ]
       ],
       "datasetInfos": [],
       "dbfsResultPath": null,
       "isJsonSchema": true,
       "metadata": {},
       "overflow": false,
       "plotOptions": {
        "customPlotOptions": {},
        "displayType": "table",
        "pivotAggregation": null,
        "pivotColumns": null,
        "xColumns": null,
        "yColumns": null
       },
       "removedWidgets": [],
       "schema": [
        {
         "metadata": "{}",
         "name": "101",
         "type": "\"integer\""
        },
        {
         "metadata": "{}",
         "name": "1001",
         "type": "\"integer\""
        },
        {
         "metadata": "{}",
         "name": "12",
         "type": "\"integer\""
        },
        {
         "metadata": "{}",
         "name": "13",
         "type": "\"integer\""
        },
        {
         "metadata": "{\"__detected_date_formats\":\"yyyy-M-d\"}",
         "name": "2024-01-10",
         "type": "\"date\""
        },
        {
         "metadata": "{}",
         "name": "Laptop",
         "type": "\"string\""
        },
        {
         "metadata": "{}",
         "name": "Electronics",
         "type": "\"string\""
        },
        {
         "metadata": "{}",
         "name": "550007",
         "type": "\"integer\""
        },
        {
         "metadata": "{}",
         "name": "550008",
         "type": "\"integer\""
        }
       ],
       "type": "table"
      }
     },
     "output_type": "display_data"
    }
   ],
   "source": [
    "#Save orders_total_df to DBFS:\n",
    "orders_total_df.write.mode(\"overwrite\").csv(\"/FileStore/tables/orders_summary\")\n",
    "\n",
    "#Verify by listing the folder:\n",
    "display(dbutils.fs.ls(\"/FileStore/tables/orders_summary\"))\n",
    "\n",
    "#back into a new DataFrame:\n",
    "summary_df = spark.read.csv(\"/FileStore/tables/orders_summary\", header=True, inferSchema=True) \n",
    "display(summary_df)"
   ]
  },
  {
   "cell_type": "code",
   "execution_count": 0,
   "metadata": {
    "application/vnd.databricks.v1+cell": {
     "cellMetadata": {
      "byteLimit": 2048000,
      "rowLimit": 10000
     },
     "inputWidgets": {},
     "nuid": "464a9ec2-1cde-4aee-babd-eff0dd224066",
     "showTitle": false,
     "tableResultSettingsMap": {},
     "title": ""
    }
   },
   "outputs": [
    {
     "output_type": "display_data",
     "data": {
      "image/png": "[encoded data removed]",
      "text/plain": [
       "<Figure size 640x480 with 1 Axes>"
      ]
     },
     "metadata": {},
     "output_type": "display_data"
    }
   ],
   "source": [
    "#Convert to Pandas and plot using Matplotlib/Seaborn.\n",
    "import pandas as pd \n",
    "import matplotlib.pyplot as plt \n",
    "region_df = orders_total_df.groupBy(\"category\").sum(\"total_price\").toPandas() \n",
    "plt.bar(region_df[\"category\"], region_df[\"sum(total_price)\"], color=\"skyblue\") \n",
    "plt.title(\"Total Sales by Category\") \n",
    "plt.xlabel(\"Category\") \n",
    "plt.ylabel(\"Revenue ( )\") \n",
    "plt.show()"
   ]
  }
 ],
 "metadata": {
  "application/vnd.databricks.v1+notebook": {
   "computePreferences": null,
   "dashboards": [],
   "environmentMetadata": {
    "base_environment": "",
    "environment_version": "3"
   },
   "inputWidgetPreferences": null,
   "language": "python",
   "notebookMetadata": {
    "pythonIndentUnit": 4
   },
   "notebookName": ":ecommerce_analytics",
   "widgets": {}
  },
  "language_info": {
   "name": "python"
  }
 },
 "nbformat": 4,
 "nbformat_minor": 0
}