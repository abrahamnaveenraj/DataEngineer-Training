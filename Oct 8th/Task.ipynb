{
 "cells": [
  {
   "cell_type": "code",
   "execution_count": 0,
   "metadata": {
    "application/vnd.databricks.v1+cell": {
     "cellMetadata": {
      "byteLimit": 2048000,
      "rowLimit": 10000
     },
     "inputWidgets": {},
     "nuid": "fe811e8b-29cc-4433-a28d-c07fe3254d60",
     "showTitle": false,
     "tableResultSettingsMap": {},
     "title": ""
    }
   },
   "outputs": [],
   "source": [
    "from pyspark.sql import SparkSession\n",
    "spark = SparkSession.builder.appName('DeltaExample').getOrCreate()\n",
    "\n",
    "data = [(1, \"Rahul\", 50000),\n",
    "        (2, \"Priya\", 60000),\n",
    "        (3, \"Aman\", 55000)]\n",
    "cols = [\"emp_id\", \"name\", \"salary\"]\n",
    "\n",
    "df = spark.createDataFrame(data, cols)\n",
    "df.write.format(\"delta\").mode(\"overwrite\").save(\"/FileStore/delta/employee\")"
   ]
  },
  {
   "cell_type": "code",
   "execution_count": 0,
   "metadata": {
    "application/vnd.databricks.v1+cell": {
     "cellMetadata": {
      "byteLimit": 2048000,
      "rowLimit": 10000
     },
     "inputWidgets": {},
     "nuid": "2bc6b2d2-b213-4efb-ba7e-7f441186e92f",
     "showTitle": false,
     "tableResultSettingsMap": {},
     "title": ""
    }
   },
   "outputs": [
    {
     "output_type": "display_data",
     "data": {
      "text/html": [
       "<style scoped>\n",
       "  .table-result-container {\n",
       "    max-height: 300px;\n",
       "    overflow: auto;\n",
       "  }\n",
       "  table, th, td {\n",
       "    border: 1px solid black;\n",
       "    border-collapse: collapse;\n",
       "  }\n",
       "  th, td {\n",
       "    padding: 5px;\n",
       "  }\n",
       "  th {\n",
       "    text-align: left;\n",
       "  }\n",
       "</style><div class='table-result-container'><table class='table-result'><thead style='background-color: white'><tr><th>emp_id</th><th>name</th><th>salary</th></tr></thead><tbody><tr><td>1</td><td>Rahul</td><td>50000</td></tr><tr><td>2</td><td>Priya</td><td>60000</td></tr><tr><td>3</td><td>Aman</td><td>55000</td></tr></tbody></table></div>"
      ]
     },
     "metadata": {
      "application/vnd.databricks.v1+output": {
       "addedWidgets": {},
       "aggData": [],
       "aggError": "",
       "aggOverflow": false,
       "aggSchema": [],
       "aggSeriesLimitReached": false,
       "aggType": "",
       "arguments": {},
       "columnCustomDisplayInfos": {},
       "data": [
        [
         1,
         "Rahul",
         50000
        ],
        [
         2,
         "Priya",
         60000
        ],
        [
         3,
         "Aman",
         55000
        ]
       ],
       "datasetInfos": [],
       "dbfsResultPath": null,
       "isJsonSchema": true,
       "metadata": {},
       "overflow": false,
       "plotOptions": {
        "customPlotOptions": {},
        "displayType": "table",
        "pivotAggregation": null,
        "pivotColumns": null,
        "xColumns": null,
        "yColumns": null
       },
       "removedWidgets": [],
       "schema": [
        {
         "metadata": "{}",
         "name": "emp_id",
         "type": "\"long\""
        },
        {
         "metadata": "{}",
         "name": "name",
         "type": "\"string\""
        },
        {
         "metadata": "{}",
         "name": "salary",
         "type": "\"long\""
        }
       ],
       "type": "table"
      }
     },
     "output_type": "display_data"
    }
   ],
   "source": [
    "df1 = spark.read.format(\"delta\").load(\"/FileStore/delta/employee\")\n",
    "display(df1)"
   ]
  },
  {
   "cell_type": "code",
   "execution_count": 0,
   "metadata": {
    "application/vnd.databricks.v1+cell": {
     "cellMetadata": {
      "byteLimit": 2048000,
      "rowLimit": 10000
     },
     "inputWidgets": {},
     "nuid": "a4f12e30-ff08-43fd-8e41-8503c62efcc9",
     "showTitle": false,
     "tableResultSettingsMap": {},
     "title": ""
    }
   },
   "outputs": [
    {
     "output_type": "execute_result",
     "data": {
      "text/plain": [
       "DataFrame[num_affected_rows: bigint, num_updated_rows: bigint, num_deleted_rows: bigint, num_inserted_rows: bigint]"
      ]
     },
     "execution_count": 36,
     "metadata": {},
     "output_type": "execute_result"
    }
   ],
   "source": [
    "from delta.tables import DeltaTable\n",
    "\n",
    "delta_emp = DeltaTable.forPath(spark, \"/Filestore/delta/employee\")\n",
    "\n",
    "updates = [(1, \"Rahul\", 52000),\n",
    "           (4, \"Sneha\", 58000)]\n",
    "update_df = spark.createDataFrame(updates, cols)\n",
    "\n",
    "delta_emp.alias(\"t\").merge(\n",
    "    update_df.alias(\"u\"),\n",
    "    \"t.emp_id = u.emp_id\"\n",
    ").whenMatchedUpdate(set={\"salary\": \"u.salary\"}) \\\n",
    " .whenNotMatchedInsert(values={\"emp_id\": \"u.emp_id\", \"name\": \"u.name\", \"salary\": \"u.salary\"}) \\\n",
    " .execute()"
   ]
  },
  {
   "cell_type": "code",
   "execution_count": 0,
   "metadata": {
    "application/vnd.databricks.v1+cell": {
     "cellMetadata": {
      "byteLimit": 2048000,
      "rowLimit": 10000
     },
     "inputWidgets": {},
     "nuid": "eb86c147-0f28-460e-9c39-50f8eeabc210",
     "showTitle": false,
     "tableResultSettingsMap": {},
     "title": ""
    }
   },
   "outputs": [
    {
     "output_type": "stream",
     "name": "stdout",
     "output_type": "stream",
     "text": [
      "+-------+-------------------+---------------+--------------------+---------+--------------------+----+------------------+--------------------+-----------+-----------------+-------------+--------------------+------------+--------------------+\n|version|          timestamp|         userId|            userName|operation| operationParameters| job|          notebook|           clusterId|readVersion|   isolationLevel|isBlindAppend|    operationMetrics|userMetadata|          engineInfo|\n+-------+-------------------+---------------+--------------------+---------+--------------------+----+------------------+--------------------+-----------+-----------------+-------------+--------------------+------------+--------------------+\n|     10|2025-10-08 10:15:55|149304925187747|azuser4801_mml.lo...| OPTIMIZE|{clusterBy -> [],...|NULL|{1171520082094991}|1008-095710-dj52s...|          9|SnapshotIsolation|        false|{numRemovedFiles ...|        NULL|Databricks-Runtim...|\n|      9|2025-10-08 10:15:54|149304925187747|azuser4801_mml.lo...|    MERGE|{predicate -> [\"(...|NULL|{1171520082094991}|1008-095710-dj52s...|          8|WriteSerializable|        false|{numTargetRowsCop...|        NULL|Databricks-Runtim...|\n|      8|2025-10-08 10:05:29|149304925187747|azuser4801_mml.lo...| OPTIMIZE|{clusterBy -> [],...|NULL|{1171520082094991}|1008-095710-dj52s...|          7|SnapshotIsolation|        false|{numRemovedFiles ...|        NULL|Databricks-Runtim...|\n|      7|2025-10-08 10:05:28|149304925187747|azuser4801_mml.lo...|    MERGE|{predicate -> [\"(...|NULL|{1171520082094991}|1008-095710-dj52s...|          6|WriteSerializable|        false|{numTargetRowsCop...|        NULL|Databricks-Runtim...|\n|      6|2025-10-08 10:05:23|149304925187747|azuser4801_mml.lo...|    WRITE|{mode -> Overwrit...|NULL|{1171520082094991}|1008-095710-dj52s...|          5|WriteSerializable|        false|{numFiles -> 1, n...|        NULL|Databricks-Runtim...|\n|      5|2025-10-08 10:04:53|149304925187747|azuser4801_mml.lo...| OPTIMIZE|{clusterBy -> [],...|NULL|{1171520082094991}|1008-095710-dj52s...|          4|SnapshotIsolation|        false|{numRemovedFiles ...|        NULL|Databricks-Runtim...|\n|      4|2025-10-08 10:04:52|149304925187747|azuser4801_mml.lo...|    MERGE|{predicate -> [\"(...|NULL|{1171520082094991}|1008-095710-dj52s...|          3|WriteSerializable|        false|{numTargetRowsCop...|        NULL|Databricks-Runtim...|\n|      3|2025-10-08 10:04:44|149304925187747|azuser4801_mml.lo...|    WRITE|{mode -> Overwrit...|NULL|{1171520082094991}|1008-095710-dj52s...|          2|WriteSerializable|        false|{numFiles -> 1, n...|        NULL|Databricks-Runtim...|\n|      2|2025-10-08 10:02:11|149304925187747|azuser4801_mml.lo...| OPTIMIZE|{clusterBy -> [],...|NULL|{1171520082094991}|1008-095710-dj52s...|          1|SnapshotIsolation|        false|{numRemovedFiles ...|        NULL|Databricks-Runtim...|\n|      1|2025-10-08 10:02:09|149304925187747|azuser4801_mml.lo...|    MERGE|{predicate -> [\"(...|NULL|{1171520082094991}|1008-095710-dj52s...|          0|WriteSerializable|        false|{numTargetRowsCop...|        NULL|Databricks-Runtim...|\n|      0|2025-10-08 09:57:22|149304925187747|azuser4801_mml.lo...|    WRITE|{mode -> Overwrit...|NULL|{1171520082094991}|1008-095710-dj52s...|       NULL|WriteSerializable|        false|{numFiles -> 1, n...|        NULL|Databricks-Runtim...|\n+-------+-------------------+---------------+--------------------+---------+--------------------+----+------------------+--------------------+-----------+-----------------+-------------+--------------------+------------+--------------------+\n\n+------+-----+------+\n|emp_id| name|salary|\n+------+-----+------+\n|     1|Rahul| 50000|\n|     2|Priya| 60000|\n|     3| Aman| 55000|\n+------+-----+------+\n\n"
     ]
    }
   ],
   "source": [
    "delta_emp.history().show()                # Shows all versions\n",
    "spark.read.format(\"delta\").option(\"versionAsOf\", 0).load(\"/FileStore/delta/employee\").show()"
   ]
  },
  {
   "cell_type": "code",
   "execution_count": 0,
   "metadata": {
    "application/vnd.databricks.v1+cell": {
     "cellMetadata": {
      "byteLimit": 2048000,
      "rowLimit": 10000
     },
     "inputWidgets": {},
     "nuid": "407b5da5-5308-4e59-8822-99397b0f8608",
     "showTitle": false,
     "tableResultSettingsMap": {},
     "title": ""
    }
   },
   "outputs": [
    {
     "output_type": "execute_result",
     "data": {
      "text/plain": [
       "DataFrame[path: string]"
      ]
     },
     "execution_count": 40,
     "metadata": {},
     "output_type": "execute_result"
    }
   ],
   "source": [
    "spark.sql(\"OPTIMIZE delta.`/FileStore/delta/employee`\")\n",
    "spark.sql(\"VACUUM delta.`/FileStore/delta/employee` RETAIN 168 HOURS\")"
   ]
  },
  {
   "cell_type": "code",
   "execution_count": 0,
   "metadata": {
    "application/vnd.databricks.v1+cell": {
     "cellMetadata": {
      "byteLimit": 2048000,
      "rowLimit": 10000
     },
     "inputWidgets": {},
     "nuid": "b77a0f65-57fd-4b39-ab20-bc3c6c591b6a",
     "showTitle": false,
     "tableResultSettingsMap": {},
     "title": ""
    }
   },
   "outputs": [
    {
     "output_type": "stream",
     "name": "stdout",
     "output_type": "stream",
     "text": [
      "+--------+----------+------+--------+-----+---------+\n|order_id|   product|region|quantity|price|   status|\n+--------+----------+------+--------+-----+---------+\n|       1|    Laptop| North|       2|55000|Completed|\n|       2|    Mobile| South|       3|25000|Completed|\n|       3|      Book| North|      10|  700|  Pending|\n|       4|Headphones|  East|       5| 3000|Completed|\n+--------+----------+------+--------+-----+---------+\n\n+--------+----------+------+--------+-----+---------+------------+\n|order_id|   product|region|quantity|price|   status|total_amount|\n+--------+----------+------+--------+-----+---------+------------+\n|       1|    Laptop| North|       2|55000|Completed|      110000|\n|       2|    Mobile| South|       3|25000|Completed|       75000|\n|       4|Headphones|  East|       5| 3000|Completed|       15000|\n+--------+----------+------+--------+-----+---------+------------+\n\n+------+-----------+\n|region|total_sales|\n+------+-----------+\n| North|     110000|\n| South|      75000|\n|  East|      15000|\n+------+-----------+\n\n"
     ]
    }
   ],
   "source": [
    "from pyspark.sql import Row\n",
    "from pyspark.sql.functions import col, sum\n",
    "\n",
    "# \uD83D\uDFE4 Bronze - Raw Data\n",
    "data = [\n",
    "    Row(order_id=1, product=\"Laptop\", region=\"North\", quantity=2, price=55000, status=\"Completed\"),\n",
    "    Row(order_id=2, product=\"Mobile\", region=\"South\", quantity=3, price=25000, status=\"Completed\"),\n",
    "    Row(order_id=3, product=\"Book\", region=\"North\", quantity=10, price=700, status=\"Pending\"),\n",
    "    Row(order_id=4, product=\"Headphones\", region=\"East\", quantity=5, price=3000, status=\"Completed\")\n",
    "]\n",
    "bronze_df = spark.createDataFrame(data)\n",
    "bronze_df.show()\n",
    "\n",
    "# \uD83D\uDFE2 Silver - Filter + Derived Column\n",
    "silver_df = bronze_df.filter(col(\"status\") == \"Completed\") \\\n",
    "                     .withColumn(\"total_amount\", col(\"quantity\") * col(\"price\"))\n",
    "silver_df.show()\n",
    "\n",
    "# \uD83D\uDFE1 Gold - Aggregate\n",
    "gold_df = silver_df.groupBy(\"region\") \\\n",
    "                   .agg(sum(\"total_amount\").alias(\"total_sales\"))\n",
    "gold_df.show()"
   ]
  }
 ],
 "metadata": {
  "application/vnd.databricks.v1+notebook": {
   "computePreferences": null,
   "dashboards": [],
   "environmentMetadata": {
    "base_environment": "",
    "environment_version": "3"
   },
   "inputWidgetPreferences": null,
   "language": "python",
   "notebookMetadata": {
    "pythonIndentUnit": 4
   },
   "notebookName": "OCT08",
   "widgets": {}
  },
  "language_info": {
   "name": "python"
  }
 },
 "nbformat": 4,
 "nbformat_minor": 0
}